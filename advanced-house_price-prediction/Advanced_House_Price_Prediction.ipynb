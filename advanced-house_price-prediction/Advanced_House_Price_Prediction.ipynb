{
  "nbformat": 4,
  "nbformat_minor": 0,
  "metadata": {
    "kernelspec": {
      "display_name": "Python 3",
      "language": "python",
      "name": "python3"
    },
    "language_info": {
      "name": "python",
      "version": "3.6.6",
      "mimetype": "text/x-python",
      "codemirror_mode": {
        "name": "ipython",
        "version": 3
      },
      "pygments_lexer": "ipython3",
      "nbconvert_exporter": "python",
      "file_extension": ".py"
    },
    "colab": {
      "name": "Advanced House Price Prediction.ipynb",
      "provenance": []
    }
  },
  "cells": [
    {
      "cell_type": "code",
      "metadata": {
        "_uuid": "8f2839f25d086af736a60e9eeb907d3b93b6e0e5",
        "_cell_guid": "b1076dfc-b9ad-4769-8c92-a6c4dae69d19",
        "trusted": true,
        "id": "CsL4jgw6EJgI",
        "colab_type": "code",
        "colab": {
          "resources": {
            "http://localhost:8080/nbextensions/google.colab/files.js": {
              "data": "Ly8gQ29weXJpZ2h0IDIwMTcgR29vZ2xlIExMQwovLwovLyBMaWNlbnNlZCB1bmRlciB0aGUgQXBhY2hlIExpY2Vuc2UsIFZlcnNpb24gMi4wICh0aGUgIkxpY2Vuc2UiKTsKLy8geW91IG1heSBub3QgdXNlIHRoaXMgZmlsZSBleGNlcHQgaW4gY29tcGxpYW5jZSB3aXRoIHRoZSBMaWNlbnNlLgovLyBZb3UgbWF5IG9idGFpbiBhIGNvcHkgb2YgdGhlIExpY2Vuc2UgYXQKLy8KLy8gICAgICBodHRwOi8vd3d3LmFwYWNoZS5vcmcvbGljZW5zZXMvTElDRU5TRS0yLjAKLy8KLy8gVW5sZXNzIHJlcXVpcmVkIGJ5IGFwcGxpY2FibGUgbGF3IG9yIGFncmVlZCB0byBpbiB3cml0aW5nLCBzb2Z0d2FyZQovLyBkaXN0cmlidXRlZCB1bmRlciB0aGUgTGljZW5zZSBpcyBkaXN0cmlidXRlZCBvbiBhbiAiQVMgSVMiIEJBU0lTLAovLyBXSVRIT1VUIFdBUlJBTlRJRVMgT1IgQ09ORElUSU9OUyBPRiBBTlkgS0lORCwgZWl0aGVyIGV4cHJlc3Mgb3IgaW1wbGllZC4KLy8gU2VlIHRoZSBMaWNlbnNlIGZvciB0aGUgc3BlY2lmaWMgbGFuZ3VhZ2UgZ292ZXJuaW5nIHBlcm1pc3Npb25zIGFuZAovLyBsaW1pdGF0aW9ucyB1bmRlciB0aGUgTGljZW5zZS4KCi8qKgogKiBAZmlsZW92ZXJ2aWV3IEhlbHBlcnMgZm9yIGdvb2dsZS5jb2xhYiBQeXRob24gbW9kdWxlLgogKi8KKGZ1bmN0aW9uKHNjb3BlKSB7CmZ1bmN0aW9uIHNwYW4odGV4dCwgc3R5bGVBdHRyaWJ1dGVzID0ge30pIHsKICBjb25zdCBlbGVtZW50ID0gZG9jdW1lbnQuY3JlYXRlRWxlbWVudCgnc3BhbicpOwogIGVsZW1lbnQudGV4dENvbnRlbnQgPSB0ZXh0OwogIGZvciAoY29uc3Qga2V5IG9mIE9iamVjdC5rZXlzKHN0eWxlQXR0cmlidXRlcykpIHsKICAgIGVsZW1lbnQuc3R5bGVba2V5XSA9IHN0eWxlQXR0cmlidXRlc1trZXldOwogIH0KICByZXR1cm4gZWxlbWVudDsKfQoKLy8gTWF4IG51bWJlciBvZiBieXRlcyB3aGljaCB3aWxsIGJlIHVwbG9hZGVkIGF0IGEgdGltZS4KY29uc3QgTUFYX1BBWUxPQURfU0laRSA9IDEwMCAqIDEwMjQ7Ci8vIE1heCBhbW91bnQgb2YgdGltZSB0byBibG9jayB3YWl0aW5nIGZvciB0aGUgdXNlci4KY29uc3QgRklMRV9DSEFOR0VfVElNRU9VVF9NUyA9IDMwICogMTAwMDsKCmZ1bmN0aW9uIF91cGxvYWRGaWxlcyhpbnB1dElkLCBvdXRwdXRJZCkgewogIGNvbnN0IHN0ZXBzID0gdXBsb2FkRmlsZXNTdGVwKGlucHV0SWQsIG91dHB1dElkKTsKICBjb25zdCBvdXRwdXRFbGVtZW50ID0gZG9jdW1lbnQuZ2V0RWxlbWVudEJ5SWQob3V0cHV0SWQpOwogIC8vIENhY2hlIHN0ZXBzIG9uIHRoZSBvdXRwdXRFbGVtZW50IHRvIG1ha2UgaXQgYXZhaWxhYmxlIGZvciB0aGUgbmV4dCBjYWxsCiAgLy8gdG8gdXBsb2FkRmlsZXNDb250aW51ZSBmcm9tIFB5dGhvbi4KICBvdXRwdXRFbGVtZW50LnN0ZXBzID0gc3RlcHM7CgogIHJldHVybiBfdXBsb2FkRmlsZXNDb250aW51ZShvdXRwdXRJZCk7Cn0KCi8vIFRoaXMgaXMgcm91Z2hseSBhbiBhc3luYyBnZW5lcmF0b3IgKG5vdCBzdXBwb3J0ZWQgaW4gdGhlIGJyb3dzZXIgeWV0KSwKLy8gd2hlcmUgdGhlcmUgYXJlIG11bHRpcGxlIGFzeW5jaHJvbm91cyBzdGVwcyBhbmQgdGhlIFB5dGhvbiBzaWRlIGlzIGdvaW5nCi8vIHRvIHBvbGwgZm9yIGNvbXBsZXRpb24gb2YgZWFjaCBzdGVwLgovLyBUaGlzIHVzZXMgYSBQcm9taXNlIHRvIGJsb2NrIHRoZSBweXRob24gc2lkZSBvbiBjb21wbGV0aW9uIG9mIGVhY2ggc3RlcCwKLy8gdGhlbiBwYXNzZXMgdGhlIHJlc3VsdCBvZiB0aGUgcHJldmlvdXMgc3RlcCBhcyB0aGUgaW5wdXQgdG8gdGhlIG5leHQgc3RlcC4KZnVuY3Rpb24gX3VwbG9hZEZpbGVzQ29udGludWUob3V0cHV0SWQpIHsKICBjb25zdCBvdXRwdXRFbGVtZW50ID0gZG9jdW1lbnQuZ2V0RWxlbWVudEJ5SWQob3V0cHV0SWQpOwogIGNvbnN0IHN0ZXBzID0gb3V0cHV0RWxlbWVudC5zdGVwczsKCiAgY29uc3QgbmV4dCA9IHN0ZXBzLm5leHQob3V0cHV0RWxlbWVudC5sYXN0UHJvbWlzZVZhbHVlKTsKICByZXR1cm4gUHJvbWlzZS5yZXNvbHZlKG5leHQudmFsdWUucHJvbWlzZSkudGhlbigodmFsdWUpID0+IHsKICAgIC8vIENhY2hlIHRoZSBsYXN0IHByb21pc2UgdmFsdWUgdG8gbWFrZSBpdCBhdmFpbGFibGUgdG8gdGhlIG5leHQKICAgIC8vIHN0ZXAgb2YgdGhlIGdlbmVyYXRvci4KICAgIG91dHB1dEVsZW1lbnQubGFzdFByb21pc2VWYWx1ZSA9IHZhbHVlOwogICAgcmV0dXJuIG5leHQudmFsdWUucmVzcG9uc2U7CiAgfSk7Cn0KCi8qKgogKiBHZW5lcmF0b3IgZnVuY3Rpb24gd2hpY2ggaXMgY2FsbGVkIGJldHdlZW4gZWFjaCBhc3luYyBzdGVwIG9mIHRoZSB1cGxvYWQKICogcHJvY2Vzcy4KICogQHBhcmFtIHtzdHJpbmd9IGlucHV0SWQgRWxlbWVudCBJRCBvZiB0aGUgaW5wdXQgZmlsZSBwaWNrZXIgZWxlbWVudC4KICogQHBhcmFtIHtzdHJpbmd9IG91dHB1dElkIEVsZW1lbnQgSUQgb2YgdGhlIG91dHB1dCBkaXNwbGF5LgogKiBAcmV0dXJuIHshSXRlcmFibGU8IU9iamVjdD59IEl0ZXJhYmxlIG9mIG5leHQgc3RlcHMuCiAqLwpmdW5jdGlvbiogdXBsb2FkRmlsZXNTdGVwKGlucHV0SWQsIG91dHB1dElkKSB7CiAgY29uc3QgaW5wdXRFbGVtZW50ID0gZG9jdW1lbnQuZ2V0RWxlbWVudEJ5SWQoaW5wdXRJZCk7CiAgaW5wdXRFbGVtZW50LmRpc2FibGVkID0gZmFsc2U7CgogIGNvbnN0IG91dHB1dEVsZW1lbnQgPSBkb2N1bWVudC5nZXRFbGVtZW50QnlJZChvdXRwdXRJZCk7CiAgb3V0cHV0RWxlbWVudC5pbm5lckhUTUwgPSAnJzsKCiAgY29uc3QgcGlja2VkUHJvbWlzZSA9IG5ldyBQcm9taXNlKChyZXNvbHZlKSA9PiB7CiAgICBpbnB1dEVsZW1lbnQuYWRkRXZlbnRMaXN0ZW5lcignY2hhbmdlJywgKGUpID0+IHsKICAgICAgcmVzb2x2ZShlLnRhcmdldC5maWxlcyk7CiAgICB9KTsKICB9KTsKCiAgY29uc3QgY2FuY2VsID0gZG9jdW1lbnQuY3JlYXRlRWxlbWVudCgnYnV0dG9uJyk7CiAgaW5wdXRFbGVtZW50LnBhcmVudEVsZW1lbnQuYXBwZW5kQ2hpbGQoY2FuY2VsKTsKICBjYW5jZWwudGV4dENvbnRlbnQgPSAnQ2FuY2VsIHVwbG9hZCc7CiAgY29uc3QgY2FuY2VsUHJvbWlzZSA9IG5ldyBQcm9taXNlKChyZXNvbHZlKSA9PiB7CiAgICBjYW5jZWwub25jbGljayA9ICgpID0+IHsKICAgICAgcmVzb2x2ZShudWxsKTsKICAgIH07CiAgfSk7CgogIC8vIENhbmNlbCB1cGxvYWQgaWYgdXNlciBoYXNuJ3QgcGlja2VkIGFueXRoaW5nIGluIHRpbWVvdXQuCiAgY29uc3QgdGltZW91dFByb21pc2UgPSBuZXcgUHJvbWlzZSgocmVzb2x2ZSkgPT4gewogICAgc2V0VGltZW91dCgoKSA9PiB7CiAgICAgIHJlc29sdmUobnVsbCk7CiAgICB9LCBGSUxFX0NIQU5HRV9USU1FT1VUX01TKTsKICB9KTsKCiAgLy8gV2FpdCBmb3IgdGhlIHVzZXIgdG8gcGljayB0aGUgZmlsZXMuCiAgY29uc3QgZmlsZXMgPSB5aWVsZCB7CiAgICBwcm9taXNlOiBQcm9taXNlLnJhY2UoW3BpY2tlZFByb21pc2UsIHRpbWVvdXRQcm9taXNlLCBjYW5jZWxQcm9taXNlXSksCiAgICByZXNwb25zZTogewogICAgICBhY3Rpb246ICdzdGFydGluZycsCiAgICB9CiAgfTsKCiAgaWYgKCFmaWxlcykgewogICAgcmV0dXJuIHsKICAgICAgcmVzcG9uc2U6IHsKICAgICAgICBhY3Rpb246ICdjb21wbGV0ZScsCiAgICAgIH0KICAgIH07CiAgfQoKICBjYW5jZWwucmVtb3ZlKCk7CgogIC8vIERpc2FibGUgdGhlIGlucHV0IGVsZW1lbnQgc2luY2UgZnVydGhlciBwaWNrcyBhcmUgbm90IGFsbG93ZWQuCiAgaW5wdXRFbGVtZW50LmRpc2FibGVkID0gdHJ1ZTsKCiAgZm9yIChjb25zdCBmaWxlIG9mIGZpbGVzKSB7CiAgICBjb25zdCBsaSA9IGRvY3VtZW50LmNyZWF0ZUVsZW1lbnQoJ2xpJyk7CiAgICBsaS5hcHBlbmQoc3BhbihmaWxlLm5hbWUsIHtmb250V2VpZ2h0OiAnYm9sZCd9KSk7CiAgICBsaS5hcHBlbmQoc3BhbigKICAgICAgICBgKCR7ZmlsZS50eXBlIHx8ICduL2EnfSkgLSAke2ZpbGUuc2l6ZX0gYnl0ZXMsIGAgKwogICAgICAgIGBsYXN0IG1vZGlmaWVkOiAkewogICAgICAgICAgICBmaWxlLmxhc3RNb2RpZmllZERhdGUgPyBmaWxlLmxhc3RNb2RpZmllZERhdGUudG9Mb2NhbGVEYXRlU3RyaW5nKCkgOgogICAgICAgICAgICAgICAgICAgICAgICAgICAgICAgICAgICAnbi9hJ30gLSBgKSk7CiAgICBjb25zdCBwZXJjZW50ID0gc3BhbignMCUgZG9uZScpOwogICAgbGkuYXBwZW5kQ2hpbGQocGVyY2VudCk7CgogICAgb3V0cHV0RWxlbWVudC5hcHBlbmRDaGlsZChsaSk7CgogICAgY29uc3QgZmlsZURhdGFQcm9taXNlID0gbmV3IFByb21pc2UoKHJlc29sdmUpID0+IHsKICAgICAgY29uc3QgcmVhZGVyID0gbmV3IEZpbGVSZWFkZXIoKTsKICAgICAgcmVhZGVyLm9ubG9hZCA9IChlKSA9PiB7CiAgICAgICAgcmVzb2x2ZShlLnRhcmdldC5yZXN1bHQpOwogICAgICB9OwogICAgICByZWFkZXIucmVhZEFzQXJyYXlCdWZmZXIoZmlsZSk7CiAgICB9KTsKICAgIC8vIFdhaXQgZm9yIHRoZSBkYXRhIHRvIGJlIHJlYWR5LgogICAgbGV0IGZpbGVEYXRhID0geWllbGQgewogICAgICBwcm9taXNlOiBmaWxlRGF0YVByb21pc2UsCiAgICAgIHJlc3BvbnNlOiB7CiAgICAgICAgYWN0aW9uOiAnY29udGludWUnLAogICAgICB9CiAgICB9OwoKICAgIC8vIFVzZSBhIGNodW5rZWQgc2VuZGluZyB0byBhdm9pZCBtZXNzYWdlIHNpemUgbGltaXRzLiBTZWUgYi82MjExNTY2MC4KICAgIGxldCBwb3NpdGlvbiA9IDA7CiAgICB3aGlsZSAocG9zaXRpb24gPCBmaWxlRGF0YS5ieXRlTGVuZ3RoKSB7CiAgICAgIGNvbnN0IGxlbmd0aCA9IE1hdGgubWluKGZpbGVEYXRhLmJ5dGVMZW5ndGggLSBwb3NpdGlvbiwgTUFYX1BBWUxPQURfU0laRSk7CiAgICAgIGNvbnN0IGNodW5rID0gbmV3IFVpbnQ4QXJyYXkoZmlsZURhdGEsIHBvc2l0aW9uLCBsZW5ndGgpOwogICAgICBwb3NpdGlvbiArPSBsZW5ndGg7CgogICAgICBjb25zdCBiYXNlNjQgPSBidG9hKFN0cmluZy5mcm9tQ2hhckNvZGUuYXBwbHkobnVsbCwgY2h1bmspKTsKICAgICAgeWllbGQgewogICAgICAgIHJlc3BvbnNlOiB7CiAgICAgICAgICBhY3Rpb246ICdhcHBlbmQnLAogICAgICAgICAgZmlsZTogZmlsZS5uYW1lLAogICAgICAgICAgZGF0YTogYmFzZTY0LAogICAgICAgIH0sCiAgICAgIH07CiAgICAgIHBlcmNlbnQudGV4dENvbnRlbnQgPQogICAgICAgICAgYCR7TWF0aC5yb3VuZCgocG9zaXRpb24gLyBmaWxlRGF0YS5ieXRlTGVuZ3RoKSAqIDEwMCl9JSBkb25lYDsKICAgIH0KICB9CgogIC8vIEFsbCBkb25lLgogIHlpZWxkIHsKICAgIHJlc3BvbnNlOiB7CiAgICAgIGFjdGlvbjogJ2NvbXBsZXRlJywKICAgIH0KICB9Owp9CgpzY29wZS5nb29nbGUgPSBzY29wZS5nb29nbGUgfHwge307CnNjb3BlLmdvb2dsZS5jb2xhYiA9IHNjb3BlLmdvb2dsZS5jb2xhYiB8fCB7fTsKc2NvcGUuZ29vZ2xlLmNvbGFiLl9maWxlcyA9IHsKICBfdXBsb2FkRmlsZXMsCiAgX3VwbG9hZEZpbGVzQ29udGludWUsCn07Cn0pKHNlbGYpOwo=",
              "ok": true,
              "headers": [
                [
                  "content-type",
                  "application/javascript"
                ]
              ],
              "status": 200,
              "status_text": ""
            }
          },
          "base_uri": "https://localhost:8080/",
          "height": 108
        },
        "outputId": "559c8789-4dee-41db-b52f-a3f666879421"
      },
      "source": [
        "import numpy as np \n",
        "import pandas as pd \n",
        "import matplotlib.pyplot as plt\n",
        "import seaborn as sns\n",
        "from google.colab import files\n",
        "uploaded = files.upload()"
      ],
      "execution_count": 6,
      "outputs": [
        {
          "output_type": "display_data",
          "data": {
            "text/html": [
              "\n",
              "     <input type=\"file\" id=\"files-2c2f88b7-d908-41bb-88c7-e55642086181\" name=\"files[]\" multiple disabled />\n",
              "     <output id=\"result-2c2f88b7-d908-41bb-88c7-e55642086181\">\n",
              "      Upload widget is only available when the cell has been executed in the\n",
              "      current browser session. Please rerun this cell to enable.\n",
              "      </output>\n",
              "      <script src=\"/nbextensions/google.colab/files.js\"></script> "
            ],
            "text/plain": [
              "<IPython.core.display.HTML object>"
            ]
          },
          "metadata": {
            "tags": []
          }
        },
        {
          "output_type": "stream",
          "text": [
            "Saving test.csv to test (1).csv\n",
            "Saving train.csv to train (1).csv\n"
          ],
          "name": "stdout"
        }
      ]
    },
    {
      "cell_type": "code",
      "metadata": {
        "_cell_guid": "79c7e3d0-c299-4dcb-8224-4455121ee9b0",
        "_uuid": "d629ff2d2480ee46fbb7e2d37f6b5fab8052498a",
        "trusted": true,
        "id": "2W4-ZCSKEJgM",
        "colab_type": "code",
        "colab": {
          "base_uri": "https://localhost:8080/",
          "height": 50
        },
        "outputId": "71ade458-2b88-4187-f684-e8679303124d"
      },
      "source": [
        "train = pd.read_csv('train.csv')\n",
        "test = pd.read_csv('test.csv')\n",
        "\n",
        "print(\"Shape of train: \", train.shape)\n",
        "print(\"Shape of test: \", test.shape)"
      ],
      "execution_count": 7,
      "outputs": [
        {
          "output_type": "stream",
          "text": [
            "Shape of train:  (1460, 81)\n",
            "Shape of test:  (1459, 80)\n"
          ],
          "name": "stdout"
        }
      ]
    },
    {
      "cell_type": "code",
      "metadata": {
        "trusted": true,
        "_uuid": "2a39bab6a39bdc2812de3b73756ab6f67d9cb154",
        "id": "oJPYS1ZjEJgP",
        "colab_type": "code",
        "colab": {}
      },
      "source": [
        "# making copies of train and test\n",
        "\n",
        "#Save the 'Id' column\n",
        "train_ID = train['Id']\n",
        "test_ID = test['Id']\n",
        "train.drop(\"Id\", axis = 1, inplace = True)\n",
        "test.drop(\"Id\", axis = 1, inplace = True)"
      ],
      "execution_count": 0,
      "outputs": []
    },
    {
      "cell_type": "code",
      "metadata": {
        "trusted": true,
        "_uuid": "d8454028c82eb701c9de4ff1a1ef0cfc273064e8",
        "id": "bFHbjuMaEJgS",
        "colab_type": "code",
        "colab": {
          "base_uri": "https://localhost:8080/",
          "height": 282
        },
        "outputId": "fd1af305-9b12-4317-8278-f33314fcea9c"
      },
      "source": [
        "fig, ax = plt.subplots()\n",
        "ax.scatter(x = train['GrLivArea'], y = train['SalePrice'])\n",
        "plt.ylabel('SalePrice', fontsize=13)\n",
        "plt.xlabel('GrLivArea', fontsize=13)\n",
        "plt.show()\n",
        "\n"
      ],
      "execution_count": 9,
      "outputs": [
        {
          "output_type": "display_data",
          "data": {
            "image/png": "[encoded data removed]",
            "text/plain": [
              "<Figure size 432x288 with 1 Axes>"
            ]
          },
          "metadata": {
            "tags": [],
            "needs_background": "light"
          }
        }
      ]
    },
    {
      "cell_type": "code",
      "metadata": {
        "trusted": true,
        "_uuid": "6010a05672d2cac4f66b98cc6b3bf5f998f4e5e4",
        "id": "qbq7pb9TEJgV",
        "colab_type": "code",
        "colab": {
          "base_uri": "https://localhost:8080/",
          "height": 282
        },
        "outputId": "4cbc2a59-71c2-478d-bc53-ccb918b5e89f"
      },
      "source": [
        "#Deleting outliers\n",
        "train = train.drop(train[(train['GrLivArea']>4000) & (train['SalePrice']<300000)].index)\n",
        "\n",
        "#Check the graphic again\n",
        "fig, ax = plt.subplots()\n",
        "ax.scatter(train['GrLivArea'], train['SalePrice'])\n",
        "plt.ylabel('SalePrice', fontsize=13)\n",
        "plt.xlabel('GrLivArea', fontsize=13)\n",
        "plt.show()\n"
      ],
      "execution_count": 10,
      "outputs": [
        {
          "output_type": "display_data",
          "data": {
            "image/png": "[encoded data removed]",
            "text/plain": [
              "<Figure size 432x288 with 1 Axes>"
            ]
          },
          "metadata": {
            "tags": [],
            "needs_background": "light"
          }
        }
      ]
    },
    {
      "cell_type": "code",
      "metadata": {
        "trusted": true,
        "_uuid": "55ee323f75305ee0a821f9955b8756d0cb498843",
        "id": "gfxVPex9EJgY",
        "colab_type": "code",
        "colab": {
          "base_uri": "https://localhost:8080/",
          "height": 590
        },
        "outputId": "ed3a2889-901c-414c-d9f3-3629b5005f16"
      },
      "source": [
        "# target variable\n",
        "\n",
        "from scipy import stats\n",
        "from scipy.stats import norm\n",
        "\n",
        "sns.distplot(train['SalePrice'] , fit = norm)\n",
        "\n",
        "# Get the fitted parameters used by the function\n",
        "(mu, sigma) = norm.fit(train['SalePrice'])\n",
        "print('mu = {:.2f} and sigma = {:.2f}'.format(mu, sigma))\n",
        "\n",
        "#Now plot the distribution\n",
        "plt.legend(['Normal dist. ($\\mu=$ {:.2f} and $\\sigma=$ {:.2f} )'.format(mu, sigma)],\n",
        "            loc='best')\n",
        "plt.ylabel('Frequency')\n",
        "plt.title('SalePrice distribution')\n",
        "\n",
        "#Get also the QQ-plot\n",
        "fig = plt.figure()\n",
        "res = stats.probplot(train['SalePrice'], plot = plt)\n",
        "plt.show()"
      ],
      "execution_count": 11,
      "outputs": [
        {
          "output_type": "stream",
          "text": [
            "mu = 180932.92 and sigma = 79467.79\n"
          ],
          "name": "stdout"
        },
        {
          "output_type": "display_data",
          "data": {
            "image/png": "[encoded data removed]",
            "text/plain": [
              "<Figure size 432x288 with 1 Axes>"
            ]
          },
          "metadata": {
            "tags": [],
            "needs_background": "light"
          }
        },
        {
          "output_type": "display_data",
          "data": {
            "image/png": "[encoded data removed]",
            "text/plain": [
              "<Figure size 432x288 with 1 Axes>"
            ]
          },
          "metadata": {
            "tags": [],
            "needs_background": "light"
          }
        }
      ]
    },
    {
      "cell_type": "code",
      "metadata": {
        "trusted": true,
        "_uuid": "cd0d6bb320dbbd26b97285c6a9edf0a447baee5e",
        "id": "25mKEaiUEJgb",
        "colab_type": "code",
        "colab": {
          "base_uri": "https://localhost:8080/",
          "height": 590
        },
        "outputId": "a0228b6a-9dd1-4d13-b974-38e61ff610f2"
      },
      "source": [
        "#We use the numpy fuction log1p which  applies log(1+x) to all elements of the column\n",
        "train[\"SalePrice\"] = np.log1p(train[\"SalePrice\"])\n",
        "\n",
        "#Check the new distribution \n",
        "sns.distplot(train['SalePrice'] , fit = norm)\n",
        "\n",
        "# Get the fitted parameters used by the function\n",
        "(mu, sigma) = norm.fit(train['SalePrice'])\n",
        "print('mu = {:.2f} and sigma = {:.2f}'.format(mu, sigma))\n",
        "\n",
        "#Now plot the distribution\n",
        "plt.legend(['Normal dist. ($\\mu=$ {:.2f} and $\\sigma=$ {:.2f} )'.format(mu, sigma)],\n",
        "            loc='best')\n",
        "plt.ylabel('Frequency')\n",
        "plt.title('SalePrice distribution')\n",
        "\n",
        "#Get also the QQ-plot\n",
        "fig = plt.figure()\n",
        "res = stats.probplot(train['SalePrice'], plot = plt)\n",
        "plt.show()"
      ],
      "execution_count": 12,
      "outputs": [
        {
          "output_type": "stream",
          "text": [
            "mu = 12.02 and sigma = 0.40\n"
          ],
          "name": "stdout"
        },
        {
          "output_type": "display_data",
          "data": {
            "image/png": "[encoded data removed]",
            "text/plain": [
              "<Figure size 432x288 with 1 Axes>"
            ]
          },
          "metadata": {
            "tags": [],
            "needs_background": "light"
          }
        },
        {
          "output_type": "display_data",
          "data": {
            "image/png": "[encoded data removed]",
            "text/plain": [
              "<Figure size 432x288 with 1 Axes>"
            ]
          },
          "metadata": {
            "tags": [],
            "needs_background": "light"
          }
        }
      ]
    },
    {
      "cell_type": "code",
      "metadata": {
        "trusted": true,
        "_uuid": "51b6e4808fd1a1b7b611aa5ebe68e4c9cb51be73",
        "id": "auGdEZGDEJge",
        "colab_type": "code",
        "colab": {
          "base_uri": "https://localhost:8080/",
          "height": 34
        },
        "outputId": "158049c2-0a8b-4e53-bcdc-08a861d4775f"
      },
      "source": [
        "# combining the train and test datasets for preprocessing\n",
        "\n",
        "ntrain = train.shape[0]\n",
        "ntest = test.shape[0]\n",
        "\n",
        "# creating y-train\n",
        "y_train = train.SalePrice.values\n",
        "\n",
        "combine = pd.concat([train, test])\n",
        "combine.drop(['SalePrice'], axis = 1, inplace =  True)\n",
        "\n",
        "# printing the shape of new dataset\n",
        "combine.shape"
      ],
      "execution_count": 13,
      "outputs": [
        {
          "output_type": "execute_result",
          "data": {
            "text/plain": [
              "(2917, 79)"
            ]
          },
          "metadata": {
            "tags": []
          },
          "execution_count": 13
        }
      ]
    },
    {
      "cell_type": "code",
      "metadata": {
        "trusted": true,
        "_uuid": "e8493659ded20717719719b9a60f98d4eb0dec33",
        "id": "XAs15d9IEJgh",
        "colab_type": "code",
        "colab": {
          "base_uri": "https://localhost:8080/",
          "height": 639
        },
        "outputId": "15dff7b3-c71d-4b1f-feef-bca21aa7a41c"
      },
      "source": [
        "combine_na = (combine.isnull().sum() / len(combine)) * 100\n",
        "combine_na = combine_na.drop(combine_na[combine_na == 0].index).sort_values(ascending=False)[:30]\n",
        "missing_data = pd.DataFrame({'Missing Ratio' :combine_na})\n",
        "missing_data.head(20)\n"
      ],
      "execution_count": 14,
      "outputs": [
        {
          "output_type": "execute_result",
          "data": {
            "text/html": [
              "<div>\n",
              "<style scoped>\n",
              "    .dataframe tbody tr th:only-of-type {\n",
              "        vertical-align: middle;\n",
              "    }\n",
              "\n",
              "    .dataframe tbody tr th {\n",
              "        vertical-align: top;\n",
              "    }\n",
              "\n",
              "    .dataframe thead th {\n",
              "        text-align: right;\n",
              "    }\n",
              "</style>\n",
              "<table border=\"1\" class=\"dataframe\">\n",
              "  <thead>\n",
              "    <tr style=\"text-align: right;\">\n",
              "      <th></th>\n",
              "      <th>Missing Ratio</th>\n",
              "    </tr>\n",
              "  </thead>\n",
              "  <tbody>\n",
              "    <tr>\n",
              "      <th>PoolQC</th>\n",
              "      <td>99.691464</td>\n",
              "    </tr>\n",
              "    <tr>\n",
              "      <th>MiscFeature</th>\n",
              "      <td>96.400411</td>\n",
              "    </tr>\n",
              "    <tr>\n",
              "      <th>Alley</th>\n",
              "      <td>93.212204</td>\n",
              "    </tr>\n",
              "    <tr>\n",
              "      <th>Fence</th>\n",
              "      <td>80.425094</td>\n",
              "    </tr>\n",
              "    <tr>\n",
              "      <th>FireplaceQu</th>\n",
              "      <td>48.680151</td>\n",
              "    </tr>\n",
              "    <tr>\n",
              "      <th>LotFrontage</th>\n",
              "      <td>16.660953</td>\n",
              "    </tr>\n",
              "    <tr>\n",
              "      <th>GarageFinish</th>\n",
              "      <td>5.450806</td>\n",
              "    </tr>\n",
              "    <tr>\n",
              "      <th>GarageYrBlt</th>\n",
              "      <td>5.450806</td>\n",
              "    </tr>\n",
              "    <tr>\n",
              "      <th>GarageQual</th>\n",
              "      <td>5.450806</td>\n",
              "    </tr>\n",
              "    <tr>\n",
              "      <th>GarageCond</th>\n",
              "      <td>5.450806</td>\n",
              "    </tr>\n",
              "    <tr>\n",
              "      <th>GarageType</th>\n",
              "      <td>5.382242</td>\n",
              "    </tr>\n",
              "    <tr>\n",
              "      <th>BsmtExposure</th>\n",
              "      <td>2.811107</td>\n",
              "    </tr>\n",
              "    <tr>\n",
              "      <th>BsmtCond</th>\n",
              "      <td>2.811107</td>\n",
              "    </tr>\n",
              "    <tr>\n",
              "      <th>BsmtQual</th>\n",
              "      <td>2.776826</td>\n",
              "    </tr>\n",
              "    <tr>\n",
              "      <th>BsmtFinType2</th>\n",
              "      <td>2.742544</td>\n",
              "    </tr>\n",
              "    <tr>\n",
              "      <th>BsmtFinType1</th>\n",
              "      <td>2.708262</td>\n",
              "    </tr>\n",
              "    <tr>\n",
              "      <th>MasVnrType</th>\n",
              "      <td>0.822763</td>\n",
              "    </tr>\n",
              "    <tr>\n",
              "      <th>MasVnrArea</th>\n",
              "      <td>0.788481</td>\n",
              "    </tr>\n",
              "    <tr>\n",
              "      <th>MSZoning</th>\n",
              "      <td>0.137127</td>\n",
              "    </tr>\n",
              "    <tr>\n",
              "      <th>BsmtFullBath</th>\n",
              "      <td>0.068564</td>\n",
              "    </tr>\n",
              "  </tbody>\n",
              "</table>\n",
              "</div>"
            ],
            "text/plain": [
              "              Missing Ratio\n",
              "PoolQC            99.691464\n",
              "MiscFeature       96.400411\n",
              "Alley             93.212204\n",
              "Fence             80.425094\n",
              "FireplaceQu       48.680151\n",
              "LotFrontage       16.660953\n",
              "GarageFinish       5.450806\n",
              "GarageYrBlt        5.450806\n",
              "GarageQual         5.450806\n",
              "GarageCond         5.450806\n",
              "GarageType         5.382242\n",
              "BsmtExposure       2.811107\n",
              "BsmtCond           2.811107\n",
              "BsmtQual           2.776826\n",
              "BsmtFinType2       2.742544\n",
              "BsmtFinType1       2.708262\n",
              "MasVnrType         0.822763\n",
              "MasVnrArea         0.788481\n",
              "MSZoning           0.137127\n",
              "BsmtFullBath       0.068564"
            ]
          },
          "metadata": {
            "tags": []
          },
          "execution_count": 14
        }
      ]
    },
    {
      "cell_type": "code",
      "metadata": {
        "trusted": true,
        "scrolled": true,
        "_uuid": "969a25f8623999960324f50e1482ee690c45ea21",
        "id": "j50eVgCeEJgj",
        "colab_type": "code",
        "colab": {
          "base_uri": "https://localhost:8080/",
          "height": 218
        },
        "outputId": "5931dd8a-7f81-4be5-a78f-bdde698ebe1d"
      },
      "source": [
        "# checking is there are any NULL values in the train and test sets\n",
        "\n",
        "combine.isnull().sum()"
      ],
      "execution_count": 15,
      "outputs": [
        {
          "output_type": "execute_result",
          "data": {
            "text/plain": [
              "MSSubClass         0\n",
              "MSZoning           4\n",
              "LotFrontage      486\n",
              "LotArea            0\n",
              "Street             0\n",
              "                ... \n",
              "MiscVal            0\n",
              "MoSold             0\n",
              "YrSold             0\n",
              "SaleType           1\n",
              "SaleCondition      0\n",
              "Length: 79, dtype: int64"
            ]
          },
          "metadata": {
            "tags": []
          },
          "execution_count": 15
        }
      ]
    },
    {
      "cell_type": "code",
      "metadata": {
        "trusted": true,
        "_uuid": "774b666a3d4f75d5d19c49a68cf7142188384f6c",
        "id": "AS7fn-oQEJgl",
        "colab_type": "code",
        "colab": {
          "base_uri": "https://localhost:8080/",
          "height": 34
        },
        "outputId": "0c18f143-92ba-454f-dff6-840c8e19c772"
      },
      "source": [
        "# ## filling the missing values in the Column Types of BsmtFinSF2\n",
        "\n",
        "# simply filling the NULL value with none\n",
        "combine['BsmtFinSF2'].fillna(0, inplace = True)\n",
        "\n",
        "# checking if there are any Null values left\n",
        "combine['BsmtFinSF2'].isnull().any()"
      ],
      "execution_count": 16,
      "outputs": [
        {
          "output_type": "execute_result",
          "data": {
            "text/plain": [
              "False"
            ]
          },
          "metadata": {
            "tags": []
          },
          "execution_count": 16
        }
      ]
    },
    {
      "cell_type": "code",
      "metadata": {
        "trusted": true,
        "_uuid": "efcd0ec2290cf2026652dd03d82bb1b89b0ef99a",
        "id": "2zohL66cEJgo",
        "colab_type": "code",
        "colab": {
          "base_uri": "https://localhost:8080/",
          "height": 34
        },
        "outputId": "c013c4cc-f711-495c-886b-5f530f783243"
      },
      "source": [
        "# ## filling the missing values in the Column Types of BsmtFinSF1\n",
        "\n",
        "# simply filling the NULL value with none\n",
        "combine['BsmtFinSF1'].fillna(0, inplace = True)\n",
        "\n",
        "# checking if there are any Null values left\n",
        "combine['BsmtFinSF1'].isnull().any()"
      ],
      "execution_count": 17,
      "outputs": [
        {
          "output_type": "execute_result",
          "data": {
            "text/plain": [
              "False"
            ]
          },
          "metadata": {
            "tags": []
          },
          "execution_count": 17
        }
      ]
    },
    {
      "cell_type": "code",
      "metadata": {
        "trusted": true,
        "_uuid": "302362621f695a691cb417ef475cc932ed3c79c8",
        "id": "Bnk9RB9gEJgq",
        "colab_type": "code",
        "colab": {
          "base_uri": "https://localhost:8080/",
          "height": 34
        },
        "outputId": "337df696-43e9-45a7-8e52-6f6d984fc11d"
      },
      "source": [
        "# ## filling the missing values in the Column Types of BsmtFinType2\n",
        "\n",
        "# simply filling the NULL value with none\n",
        "combine['BsmtFinType2'].fillna('None', inplace = True)\n",
        "\n",
        "# checking if there are any Null values left\n",
        "combine['BsmtFinType2'].isnull().any()"
      ],
      "execution_count": 18,
      "outputs": [
        {
          "output_type": "execute_result",
          "data": {
            "text/plain": [
              "False"
            ]
          },
          "metadata": {
            "tags": []
          },
          "execution_count": 18
        }
      ]
    },
    {
      "cell_type": "code",
      "metadata": {
        "trusted": true,
        "_uuid": "fe7d450134aac27a56d38c38c1b56686f32e07f3",
        "id": "Sme4MnsnEJgs",
        "colab_type": "code",
        "colab": {
          "base_uri": "https://localhost:8080/",
          "height": 34
        },
        "outputId": "e5ce2035-47c1-4201-8fcd-d57a61ddf64d"
      },
      "source": [
        "# ## filling the missing values in the Column Types of BsmtFinType1\n",
        "\n",
        "# simply filling the NULL value with none\n",
        "combine['BsmtFinType1'].fillna('None', inplace = True)\n",
        "\n",
        "# checking if there are any Null values left\n",
        "combine['BsmtFinType1'].isnull().any()"
      ],
      "execution_count": 19,
      "outputs": [
        {
          "output_type": "execute_result",
          "data": {
            "text/plain": [
              "False"
            ]
          },
          "metadata": {
            "tags": []
          },
          "execution_count": 19
        }
      ]
    },
    {
      "cell_type": "code",
      "metadata": {
        "trusted": true,
        "_uuid": "26b8c611a80b874fa2358237bc28ed1833a735ae",
        "id": "c1P_BAO-EJgx",
        "colab_type": "code",
        "colab": {
          "base_uri": "https://localhost:8080/",
          "height": 34
        },
        "outputId": "8498aeb3-4460-46fb-fce5-0abbc238828e"
      },
      "source": [
        "# ## filling the missing values in the Column Types of BsmtFullBath\n",
        "\n",
        "# simply filling the NULL value with 0 as it is the most common\n",
        "combine['BsmtFullBath'].fillna(0, inplace = True)\n",
        "\n",
        "# checking if there are any Null values left\n",
        "combine['BsmtFullBath'].isnull().any()"
      ],
      "execution_count": 20,
      "outputs": [
        {
          "output_type": "execute_result",
          "data": {
            "text/plain": [
              "False"
            ]
          },
          "metadata": {
            "tags": []
          },
          "execution_count": 20
        }
      ]
    },
    {
      "cell_type": "code",
      "metadata": {
        "trusted": true,
        "_uuid": "d5e28bf496113fcd3a88b8af314cf53b82620b0c",
        "id": "bJzyVxHVEJg0",
        "colab_type": "code",
        "colab": {
          "base_uri": "https://localhost:8080/",
          "height": 34
        },
        "outputId": "7b6eeedd-88c0-4308-dbc8-e4c2f10076f2"
      },
      "source": [
        "# ## filling the missing values in the Column Types of BsmtHalfBath\n",
        "\n",
        "# simply filling the NULL value with 0 as it is the most common\n",
        "combine['BsmtHalfBath'].fillna(0, inplace = True)\n",
        "\n",
        "# checking if there are any Null values left\n",
        "combine['BsmtHalfBath'].isnull().any()"
      ],
      "execution_count": 21,
      "outputs": [
        {
          "output_type": "execute_result",
          "data": {
            "text/plain": [
              "False"
            ]
          },
          "metadata": {
            "tags": []
          },
          "execution_count": 21
        }
      ]
    },
    {
      "cell_type": "code",
      "metadata": {
        "trusted": true,
        "_uuid": "b4b50e800bbe9ecf3155ef4c48efbc20a2b82bb3",
        "id": "OFkWi-dKEJg2",
        "colab_type": "code",
        "colab": {
          "base_uri": "https://localhost:8080/",
          "height": 34
        },
        "outputId": "3115b6cb-b649-4b8e-8ce0-c2653b790497"
      },
      "source": [
        "# ## filling the missing values in the Column Types of BsmtQual\n",
        "\n",
        "# simply filling the NULL value with none\n",
        "combine['BsmtQual'].fillna('None', inplace = True)\n",
        "\n",
        "# checking if there are any Null values left\n",
        "combine['BsmtQual'].isnull().any()"
      ],
      "execution_count": 22,
      "outputs": [
        {
          "output_type": "execute_result",
          "data": {
            "text/plain": [
              "False"
            ]
          },
          "metadata": {
            "tags": []
          },
          "execution_count": 22
        }
      ]
    },
    {
      "cell_type": "code",
      "metadata": {
        "trusted": true,
        "_uuid": "3a2ef6bfeda67fcc204b369a41e8837591fb3ee6",
        "id": "yjKxADC4EJg4",
        "colab_type": "code",
        "colab": {
          "base_uri": "https://localhost:8080/",
          "height": 34
        },
        "outputId": "20559584-ec5b-4152-88db-31ee3c74453c"
      },
      "source": [
        "# ## filling the missing values in the Column Types of BsmtUnfSF\n",
        "\n",
        "# simply filling the NULL value with 0 as it is the most common\n",
        "combine['BsmtUnfSF'].fillna(0, inplace = True)\n",
        "\n",
        "# checking if there are any Null values left\n",
        "combine['BsmtUnfSF'].isnull().any()"
      ],
      "execution_count": 23,
      "outputs": [
        {
          "output_type": "execute_result",
          "data": {
            "text/plain": [
              "False"
            ]
          },
          "metadata": {
            "tags": []
          },
          "execution_count": 23
        }
      ]
    },
    {
      "cell_type": "code",
      "metadata": {
        "trusted": true,
        "_uuid": "963f1001893a8c153d7ad1c9a6fb8d0eda62cb2b",
        "id": "pOMbmnLXEJg7",
        "colab_type": "code",
        "colab": {
          "base_uri": "https://localhost:8080/",
          "height": 34
        },
        "outputId": "bd593dda-7922-4ebc-927f-276df3f4fb96"
      },
      "source": [
        "## filling the missing values in the Column Types of Electrical\n",
        "\n",
        "# simply filling the NULL value with VinylSd as it is the most common\n",
        "combine['Electrical'].fillna(combine['Electrical'].mode()[0], inplace = True)\n",
        "\n",
        "# checking if there are any Null values left\n",
        "combine['Electrical'].isnull().any()"
      ],
      "execution_count": 24,
      "outputs": [
        {
          "output_type": "execute_result",
          "data": {
            "text/plain": [
              "False"
            ]
          },
          "metadata": {
            "tags": []
          },
          "execution_count": 24
        }
      ]
    },
    {
      "cell_type": "code",
      "metadata": {
        "trusted": true,
        "_uuid": "2201a82a45fd7177c71a65081dc30f8623be75df",
        "id": "jyJwF6beEJg9",
        "colab_type": "code",
        "colab": {
          "base_uri": "https://localhost:8080/",
          "height": 34
        },
        "outputId": "3bf05c14-0195-4ab4-ed9b-168123f6b395"
      },
      "source": [
        "## filling the missing values in the Column Types of Exterior2nd\n",
        "\n",
        "# simply filling the NULL value with VinylSd as it is the most common\n",
        "combine['Exterior1st'].fillna(combine['Exterior1st'].mode()[0], inplace = True)\n",
        "\n",
        "# checking if there are any Null values left\n",
        "combine['Exterior1st'].isnull().any()"
      ],
      "execution_count": 25,
      "outputs": [
        {
          "output_type": "execute_result",
          "data": {
            "text/plain": [
              "False"
            ]
          },
          "metadata": {
            "tags": []
          },
          "execution_count": 25
        }
      ]
    },
    {
      "cell_type": "code",
      "metadata": {
        "trusted": true,
        "_uuid": "e8ddd6d8e66fd4b0b06fd0a2e495be66e11cc68c",
        "id": "wtGMMf-0EJhA",
        "colab_type": "code",
        "colab": {
          "base_uri": "https://localhost:8080/",
          "height": 34
        },
        "outputId": "99a1e9fe-3af3-474b-ab76-8d6d8fa04e55"
      },
      "source": [
        "## filling the missing values in the Column Types of Exterior2nd\n",
        "\n",
        "# simply filling the NULL value with most common value\n",
        "combine['Exterior2nd'].fillna(combine['Exterior2nd'].mode()[0], inplace = True)\n",
        "\n",
        "# checking if there are any Null values left\n",
        "combine['Exterior2nd'].isnull().any()"
      ],
      "execution_count": 26,
      "outputs": [
        {
          "output_type": "execute_result",
          "data": {
            "text/plain": [
              "False"
            ]
          },
          "metadata": {
            "tags": []
          },
          "execution_count": 26
        }
      ]
    },
    {
      "cell_type": "code",
      "metadata": {
        "trusted": true,
        "_uuid": "37b3aff72cc0567f21e0884e0c9be88d7b4c53e0",
        "id": "iyid6-GeEJhD",
        "colab_type": "code",
        "colab": {
          "base_uri": "https://localhost:8080/",
          "height": 34
        },
        "outputId": "9e347b52-9847-4e53-e24c-ef605c32aabc"
      },
      "source": [
        "## filling the missing values in the Column Types of Fence\n",
        "\n",
        "# simply filling the NULL value with none\n",
        "combine['Fence'].fillna('None', inplace = True)\n",
        "\n",
        "# checking if there are any Null values left\n",
        "combine['Fence'].isnull().any()"
      ],
      "execution_count": 27,
      "outputs": [
        {
          "output_type": "execute_result",
          "data": {
            "text/plain": [
              "False"
            ]
          },
          "metadata": {
            "tags": []
          },
          "execution_count": 27
        }
      ]
    },
    {
      "cell_type": "code",
      "metadata": {
        "trusted": true,
        "_uuid": "a2fa3a5db479e63eb7d27006dde94ac774b9f404",
        "id": "9Dicg6qGEJhF",
        "colab_type": "code",
        "colab": {
          "base_uri": "https://localhost:8080/",
          "height": 34
        },
        "outputId": "c94a6d7f-b5d1-448e-c1ea-8f0a8083482a"
      },
      "source": [
        "## filling the missing values in the Column Types of FireplaceQu\n",
        "\n",
        "# simply filling the NULL value with none\n",
        "combine['FireplaceQu'].fillna('None', inplace = True)\n",
        "\n",
        "# checking if there are any Null values left\n",
        "combine['FireplaceQu'].isnull().any()"
      ],
      "execution_count": 28,
      "outputs": [
        {
          "output_type": "execute_result",
          "data": {
            "text/plain": [
              "False"
            ]
          },
          "metadata": {
            "tags": []
          },
          "execution_count": 28
        }
      ]
    },
    {
      "cell_type": "code",
      "metadata": {
        "trusted": true,
        "_uuid": "8491a0a37752581f37bd1eda0d019616ddb49f0e",
        "id": "g5dzlE4rEJhH",
        "colab_type": "code",
        "colab": {
          "base_uri": "https://localhost:8080/",
          "height": 34
        },
        "outputId": "a3e77077-d4bf-4bbb-ea01-c118f653aaf4"
      },
      "source": [
        "## filling the missing values in the Column Types of MSZoning\n",
        "\n",
        "# simply filling the NULL value with none\n",
        "combine['MSZoning'].fillna('None', inplace = True)\n",
        "\n",
        "# checking if there are any Null values left\n",
        "combine['MSZoning'].isnull().any()"
      ],
      "execution_count": 29,
      "outputs": [
        {
          "output_type": "execute_result",
          "data": {
            "text/plain": [
              "False"
            ]
          },
          "metadata": {
            "tags": []
          },
          "execution_count": 29
        }
      ]
    },
    {
      "cell_type": "code",
      "metadata": {
        "trusted": true,
        "_uuid": "ee4a5206c88618a089f10c69457532f7fc4d8154",
        "id": "12rbNc7vEJhK",
        "colab_type": "code",
        "colab": {
          "base_uri": "https://localhost:8080/",
          "height": 34
        },
        "outputId": "3c6c2b0c-c5d1-4b15-858b-f9e7afd893e3"
      },
      "source": [
        "## filling the missing values in the Column Types of MasVnrArea\n",
        "\n",
        "# simply filling the NULL value with 0\n",
        "combine['MasVnrArea'].fillna(0, inplace = True)\n",
        "\n",
        "# checking if there are any Null values left\n",
        "combine['MasVnrArea'].isnull().any()"
      ],
      "execution_count": 30,
      "outputs": [
        {
          "output_type": "execute_result",
          "data": {
            "text/plain": [
              "False"
            ]
          },
          "metadata": {
            "tags": []
          },
          "execution_count": 30
        }
      ]
    },
    {
      "cell_type": "code",
      "metadata": {
        "trusted": true,
        "_uuid": "4adcf48b40e59a2726fcfc0e2e530496c7bf8c13",
        "id": "b64OGgkiEJhM",
        "colab_type": "code",
        "colab": {
          "base_uri": "https://localhost:8080/",
          "height": 34
        },
        "outputId": "5d75b8d3-beee-4e16-d929-a4532a071932"
      },
      "source": [
        "## filling the missing values in the Column Types of MasVnrType\n",
        "\n",
        "# simply filling the NULL value with none\n",
        "combine['MasVnrType'].fillna('None', inplace = True)\n",
        "\n",
        "# checking if there are any Null values left\n",
        "combine['MasVnrType'].isnull().any()"
      ],
      "execution_count": 31,
      "outputs": [
        {
          "output_type": "execute_result",
          "data": {
            "text/plain": [
              "False"
            ]
          },
          "metadata": {
            "tags": []
          },
          "execution_count": 31
        }
      ]
    },
    {
      "cell_type": "code",
      "metadata": {
        "trusted": true,
        "_uuid": "51d8c71f0c0252d53dad6cf3775e17ca1dc0d8a5",
        "id": "YwaE4VaIEJhP",
        "colab_type": "code",
        "colab": {
          "base_uri": "https://localhost:8080/",
          "height": 34
        },
        "outputId": "3623eb39-4fdf-477e-c64c-cc054c2d4516"
      },
      "source": [
        "## filling the missing values in the Column Types of MiscFeature\n",
        "\n",
        "# simply filling the NULL value with none\n",
        "combine['MiscFeature'].fillna('None', inplace = True)\n",
        "\n",
        "# checking if there are any Null values left\n",
        "combine['MiscFeature'].isnull().any()"
      ],
      "execution_count": 32,
      "outputs": [
        {
          "output_type": "execute_result",
          "data": {
            "text/plain": [
              "False"
            ]
          },
          "metadata": {
            "tags": []
          },
          "execution_count": 32
        }
      ]
    },
    {
      "cell_type": "code",
      "metadata": {
        "trusted": true,
        "_uuid": "9a34f34a9973b042a285dee7ec50b6c1af386bdd",
        "id": "pNDXNLtjEJhS",
        "colab_type": "code",
        "colab": {
          "base_uri": "https://localhost:8080/",
          "height": 34
        },
        "outputId": "c2e264e6-83ed-4918-ab5b-62762aae851b"
      },
      "source": [
        "## filling the missing values in the Column Typesof PoolQC\n",
        "\n",
        "# simply filling the NULL value with Ex as it is the most common\n",
        "combine['PoolQC'].fillna('None', inplace = True)\n",
        "\n",
        "# checking if there are any Null values left\n",
        "combine['PoolQC'].isnull().any()"
      ],
      "execution_count": 33,
      "outputs": [
        {
          "output_type": "execute_result",
          "data": {
            "text/plain": [
              "False"
            ]
          },
          "metadata": {
            "tags": []
          },
          "execution_count": 33
        }
      ]
    },
    {
      "cell_type": "code",
      "metadata": {
        "trusted": true,
        "_uuid": "efc099627e5f2b3d08eed0c28e250f7c745552e8",
        "id": "hJwi9stsEJhV",
        "colab_type": "code",
        "colab": {
          "base_uri": "https://localhost:8080/",
          "height": 34
        },
        "outputId": "e855ca94-7ada-4cdc-b64f-4b1db7078cb9"
      },
      "source": [
        "## filling the missing values in the Column SaleType\n",
        "\n",
        "# simply filling the NULL value with WD as it is the most common\n",
        "combine['SaleType'].fillna(combine['SaleType'].mode()[0], inplace = True)\n",
        "\n",
        "# checking if there are any Null values left\n",
        "combine['SaleType'].isnull().any()"
      ],
      "execution_count": 34,
      "outputs": [
        {
          "output_type": "execute_result",
          "data": {
            "text/plain": [
              "False"
            ]
          },
          "metadata": {
            "tags": []
          },
          "execution_count": 34
        }
      ]
    },
    {
      "cell_type": "code",
      "metadata": {
        "trusted": true,
        "_uuid": "806e477fdacf3852f24640ca1edd5d5d80a27ac7",
        "id": "ALSI3Kh5EJhW",
        "colab_type": "code",
        "colab": {
          "base_uri": "https://localhost:8080/",
          "height": 34
        },
        "outputId": "17d1e624-5fd5-49c4-fed0-1afb78f3a6ff"
      },
      "source": [
        "# filling the missing values in the Column TotalBsmtSF\n",
        "\n",
        "combine['TotalBsmtSF'].fillna(combine['TotalBsmtSF'].mean(), inplace = True)\n",
        "\n",
        "# checking if there are any Null values left\n",
        "combine['TotalBsmtSF'].isnull().any()"
      ],
      "execution_count": 35,
      "outputs": [
        {
          "output_type": "execute_result",
          "data": {
            "text/plain": [
              "False"
            ]
          },
          "metadata": {
            "tags": []
          },
          "execution_count": 35
        }
      ]
    },
    {
      "cell_type": "code",
      "metadata": {
        "trusted": true,
        "_uuid": "993b0f84f66d3a3a6ece861c989b5d60d5968db2",
        "id": "MizS3s-rEJhY",
        "colab_type": "code",
        "colab": {
          "base_uri": "https://localhost:8080/",
          "height": 67
        },
        "outputId": "e142a080-7cc5-4b6b-c293-727558508a30"
      },
      "source": [
        "# checking the unique value in the column Utlities\n",
        "\n",
        "combine['Utilities'].value_counts()"
      ],
      "execution_count": 36,
      "outputs": [
        {
          "output_type": "execute_result",
          "data": {
            "text/plain": [
              "AllPub    2914\n",
              "NoSeWa       1\n",
              "Name: Utilities, dtype: int64"
            ]
          },
          "metadata": {
            "tags": []
          },
          "execution_count": 36
        }
      ]
    },
    {
      "cell_type": "code",
      "metadata": {
        "trusted": true,
        "_uuid": "be92515aeb178cb7585c9e1b6becf0a269ceb5d4",
        "id": "0XPoj26cEJhb",
        "colab_type": "code",
        "colab": {
          "base_uri": "https://localhost:8080/",
          "height": 34
        },
        "outputId": "ce78ac85-fee3-455e-d7b6-8c8377f13745"
      },
      "source": [
        "# AS, we just saw that almost all the rows have same value for Utilities we will get rid of this column\n",
        "\n",
        "combine.drop(['Utilities'], axis = 1, inplace = True)\n",
        "\n",
        "# checking the new shape of the dataset\n",
        "combine.shape"
      ],
      "execution_count": 37,
      "outputs": [
        {
          "output_type": "execute_result",
          "data": {
            "text/plain": [
              "(2917, 78)"
            ]
          },
          "metadata": {
            "tags": []
          },
          "execution_count": 37
        }
      ]
    },
    {
      "cell_type": "code",
      "metadata": {
        "trusted": true,
        "_uuid": "a471c3a28dbcfb38b01c94b985de5b019bc1bcbd",
        "id": "5wVsK2HyEJhd",
        "colab_type": "code",
        "colab": {
          "base_uri": "https://localhost:8080/",
          "height": 34
        },
        "outputId": "4e08c342-ae41-4836-de4a-448d6ee7b896"
      },
      "source": [
        "# filling the missing values in the LotFrontage column\n",
        "\n",
        "#Group by neighborhood and fill in missing value by the median LotFrontage of all the neighborhood\n",
        "combine[\"LotFrontage\"] = combine.groupby(\"Neighborhood\")[\"LotFrontage\"].transform(\n",
        "    lambda x: x.fillna(x.median()))\n",
        "\n",
        "# checking if there are any NULL values left in the LotFronage Column\n",
        "combine['LotFrontage'].isnull().any()\n"
      ],
      "execution_count": 38,
      "outputs": [
        {
          "output_type": "execute_result",
          "data": {
            "text/plain": [
              "False"
            ]
          },
          "metadata": {
            "tags": []
          },
          "execution_count": 38
        }
      ]
    },
    {
      "cell_type": "code",
      "metadata": {
        "trusted": true,
        "_uuid": "c8821f83bc309a45b66f970742e7f8a5259ee42f",
        "id": "B3COR3TBEJhf",
        "colab_type": "code",
        "colab": {
          "base_uri": "https://localhost:8080/",
          "height": 34
        },
        "outputId": "4576ceb3-3491-4eab-a15f-94a281390b3b"
      },
      "source": [
        "# filling the missing values \n",
        "\n",
        "# we will replace null values with none\n",
        "combine['Alley'].fillna('None', inplace = True)\n",
        "\n",
        "# checking if there are any NULL values left\n",
        "combine['Alley'].isnull().any()"
      ],
      "execution_count": 39,
      "outputs": [
        {
          "output_type": "execute_result",
          "data": {
            "text/plain": [
              "False"
            ]
          },
          "metadata": {
            "tags": []
          },
          "execution_count": 39
        }
      ]
    },
    {
      "cell_type": "code",
      "metadata": {
        "trusted": true,
        "_uuid": "3338de12429c2bd067f6665f2b3a9c7428ee5eef",
        "id": "f466KPwJEJhh",
        "colab_type": "code",
        "colab": {
          "base_uri": "https://localhost:8080/",
          "height": 34
        },
        "outputId": "ca4348c4-57b4-4d21-8552-65d615067895"
      },
      "source": [
        "# filling the missing values in the BsmtCond column\n",
        "\n",
        "# we are simply filling none in the place NULL values \n",
        "combine['BsmtCond'].fillna('None', inplace = True)\n",
        "\n",
        "# checking if there are any left NULL values\n",
        "combine['BsmtCond'].isnull().any()"
      ],
      "execution_count": 40,
      "outputs": [
        {
          "output_type": "execute_result",
          "data": {
            "text/plain": [
              "False"
            ]
          },
          "metadata": {
            "tags": []
          },
          "execution_count": 40
        }
      ]
    },
    {
      "cell_type": "code",
      "metadata": {
        "trusted": true,
        "_uuid": "63c6db7eea6b5e42791f4a1916802f747748927f",
        "id": "2WUiqwVZEJhj",
        "colab_type": "code",
        "colab": {
          "base_uri": "https://localhost:8080/",
          "height": 34
        },
        "outputId": "388c9a15-4688-4451-831c-a5d5ad260a80"
      },
      "source": [
        "# filling the missing values in the BsmtCond column\n",
        "\n",
        "# replacing No with None\n",
        "combine['BsmtExposure'].replace(('No'), ('None'), inplace = True)\n",
        "\n",
        "# we are simply filling None in the place NULL values \n",
        "combine['BsmtExposure'].fillna('None', inplace = True)\n",
        "\n",
        "# checking if there are any left NULL values\n",
        "combine['BsmtExposure'].isnull().any()"
      ],
      "execution_count": 41,
      "outputs": [
        {
          "output_type": "execute_result",
          "data": {
            "text/plain": [
              "False"
            ]
          },
          "metadata": {
            "tags": []
          },
          "execution_count": 41
        }
      ]
    },
    {
      "cell_type": "code",
      "metadata": {
        "trusted": true,
        "_uuid": "484f18d813ba48f8888f6f6e5566d1e573d74df9",
        "id": "E6EU1w8EEJhl",
        "colab_type": "code",
        "colab": {
          "base_uri": "https://localhost:8080/",
          "height": 118
        },
        "outputId": "d43c69b1-7e44-4735-a568-ff70fe00dce5"
      },
      "source": [
        "combine['KitchenQual'].value_counts(dropna = False)"
      ],
      "execution_count": 42,
      "outputs": [
        {
          "output_type": "execute_result",
          "data": {
            "text/plain": [
              "TA     1492\n",
              "Gd     1151\n",
              "Ex      203\n",
              "Fa       70\n",
              "NaN       1\n",
              "Name: KitchenQual, dtype: int64"
            ]
          },
          "metadata": {
            "tags": []
          },
          "execution_count": 42
        }
      ]
    },
    {
      "cell_type": "code",
      "metadata": {
        "trusted": true,
        "_uuid": "72544ff7dbd292781b3d024d5984628c09820a37",
        "id": "5mVrSH4eEJho",
        "colab_type": "code",
        "colab": {
          "base_uri": "https://localhost:8080/",
          "height": 34
        },
        "outputId": "29bebd43-1071-475a-b989-da6112dc9a98"
      },
      "source": [
        "# filling the missing values in the KitchenQual column\n",
        "\n",
        "# we are simply filling TA in the place NULL values \n",
        "combine['KitchenQual'].fillna(combine['KitchenQual'].mode()[0], inplace = True)\n",
        "\n",
        "# checking if there are any left NULL values\n",
        "combine['KitchenQual'].isnull().any()"
      ],
      "execution_count": 43,
      "outputs": [
        {
          "output_type": "execute_result",
          "data": {
            "text/plain": [
              "False"
            ]
          },
          "metadata": {
            "tags": []
          },
          "execution_count": 43
        }
      ]
    },
    {
      "cell_type": "code",
      "metadata": {
        "trusted": true,
        "_uuid": "31212115e2aec2b62789d1bb805dcace5f022b22",
        "id": "InhD1-xeEJhp",
        "colab_type": "code",
        "colab": {
          "base_uri": "https://localhost:8080/",
          "height": 34
        },
        "outputId": "d7c52cc6-c07b-4dc2-81d2-1b9a7b7aa86c"
      },
      "source": [
        "# filling the missing values in the GarageYrBlt column\n",
        "\n",
        "# we are simply filling none in place of NULL values\n",
        "combine['GarageYrBlt'].fillna('None', inplace = True)\n",
        "\n",
        "# checking if there are any left NULL values\n",
        "combine['GarageYrBlt'].isnull().any()"
      ],
      "execution_count": 44,
      "outputs": [
        {
          "output_type": "execute_result",
          "data": {
            "text/plain": [
              "False"
            ]
          },
          "metadata": {
            "tags": []
          },
          "execution_count": 44
        }
      ]
    },
    {
      "cell_type": "code",
      "metadata": {
        "trusted": true,
        "_uuid": "c718cf68c3dd4935c2cb2267bf9744392855b55d",
        "id": "HUVjsTQxEJhr",
        "colab_type": "code",
        "colab": {
          "base_uri": "https://localhost:8080/",
          "height": 34
        },
        "outputId": "5ba2f7da-e230-435b-b061-e073d9e58ee1"
      },
      "source": [
        "# filling the missing values in the GarageType column\n",
        "\n",
        "# we are simply filling none in the place NULL values \n",
        "combine['GarageType'].fillna('None', inplace = True)\n",
        "\n",
        "# checking if there are any left NULL values\n",
        "combine['GarageType'].isnull().any()"
      ],
      "execution_count": 45,
      "outputs": [
        {
          "output_type": "execute_result",
          "data": {
            "text/plain": [
              "False"
            ]
          },
          "metadata": {
            "tags": []
          },
          "execution_count": 45
        }
      ]
    },
    {
      "cell_type": "code",
      "metadata": {
        "trusted": true,
        "_uuid": "d73e0b2cc73c52de20c3179ee58586b4c7e37a29",
        "id": "hVznoxsnEJhu",
        "colab_type": "code",
        "colab": {
          "base_uri": "https://localhost:8080/",
          "height": 34
        },
        "outputId": "b78918c1-8e1a-427b-ddc7-551950c9b099"
      },
      "source": [
        "# filling the missing values in the GarageQual column\n",
        "\n",
        "# we are simply filling none in the place NULL values \n",
        "combine['GarageQual'].fillna('None', inplace = True)\n",
        "\n",
        "# checking if there are any left NULL values\n",
        "combine['GarageQual'].isnull().any()"
      ],
      "execution_count": 46,
      "outputs": [
        {
          "output_type": "execute_result",
          "data": {
            "text/plain": [
              "False"
            ]
          },
          "metadata": {
            "tags": []
          },
          "execution_count": 46
        }
      ]
    },
    {
      "cell_type": "code",
      "metadata": {
        "trusted": true,
        "_uuid": "4d402b8ca0ade5639791b03651eb6c12197cd16b",
        "id": "aGdvyKClEJhy",
        "colab_type": "code",
        "colab": {
          "base_uri": "https://localhost:8080/",
          "height": 34
        },
        "outputId": "bbb5c54e-7881-48b9-82d5-ed5a345b0b17"
      },
      "source": [
        "# filling the missing values in the GarageFinish column\n",
        "\n",
        "# we are simply filling none in the place NULL values  \n",
        "combine['GarageFinish'].fillna('None', inplace = True)\n",
        "\n",
        "# checking if there are any left NULL values\n",
        "combine['GarageFinish'].isnull().any()"
      ],
      "execution_count": 47,
      "outputs": [
        {
          "output_type": "execute_result",
          "data": {
            "text/plain": [
              "False"
            ]
          },
          "metadata": {
            "tags": []
          },
          "execution_count": 47
        }
      ]
    },
    {
      "cell_type": "code",
      "metadata": {
        "trusted": true,
        "_uuid": "b480fd9509f0ade0fbf1b54b733e6cbc9ba109b4",
        "id": "X1N0uR2uEJh0",
        "colab_type": "code",
        "colab": {
          "base_uri": "https://localhost:8080/",
          "height": 34
        },
        "outputId": "69f2186c-a316-4508-c607-67ee79d584e0"
      },
      "source": [
        "# filling the missing values in the GarageCond column\n",
        "\n",
        "# we are simply filling Unf in the place NULL values \n",
        "combine['GarageCond'].fillna('None', inplace = True)\n",
        "\n",
        "# checking if there are any left NULL values\n",
        "combine['GarageCond'].isnull().any()"
      ],
      "execution_count": 48,
      "outputs": [
        {
          "output_type": "execute_result",
          "data": {
            "text/plain": [
              "False"
            ]
          },
          "metadata": {
            "tags": []
          },
          "execution_count": 48
        }
      ]
    },
    {
      "cell_type": "code",
      "metadata": {
        "trusted": true,
        "_uuid": "f6b2bd32f4c395fe243dcf9153a7b96eb90710f9",
        "id": "uf2S6tfREJh3",
        "colab_type": "code",
        "colab": {
          "base_uri": "https://localhost:8080/",
          "height": 34
        },
        "outputId": "fa22340e-e521-444e-e6b3-e020e9c4dbe1"
      },
      "source": [
        "# filling the missing values in the GarageCars column\n",
        "\n",
        "# we are simply filling 0 in the place NULL values \n",
        "combine['GarageCars'].fillna(0, inplace = True)\n",
        "\n",
        "# checking if there are any left NULL values\n",
        "combine['GarageCars'].isnull().any()"
      ],
      "execution_count": 49,
      "outputs": [
        {
          "output_type": "execute_result",
          "data": {
            "text/plain": [
              "False"
            ]
          },
          "metadata": {
            "tags": []
          },
          "execution_count": 49
        }
      ]
    },
    {
      "cell_type": "code",
      "metadata": {
        "trusted": true,
        "_uuid": "0f06de47716dc1dedaa6d34ff631bb48da1fd1c5",
        "id": "OPwEeKqKEJh5",
        "colab_type": "code",
        "colab": {
          "base_uri": "https://localhost:8080/",
          "height": 34
        },
        "outputId": "8649fe7b-dde7-4b4e-c15d-c8635857b417"
      },
      "source": [
        "# filling the missing values in the GarageArea column\n",
        "\n",
        "# we are simply filling 0 in the place NULL values \n",
        "combine['GarageArea'].fillna(0, inplace = True)\n",
        "\n",
        "# checking if there are any left NULL values\n",
        "combine['GarageArea'].isnull().any()"
      ],
      "execution_count": 50,
      "outputs": [
        {
          "output_type": "execute_result",
          "data": {
            "text/plain": [
              "False"
            ]
          },
          "metadata": {
            "tags": []
          },
          "execution_count": 50
        }
      ]
    },
    {
      "cell_type": "code",
      "metadata": {
        "trusted": true,
        "_uuid": "113912a2bc3b63debfafaad6c94f7a8406e0d979",
        "id": "ncjuXwazEJh7",
        "colab_type": "code",
        "colab": {
          "base_uri": "https://localhost:8080/",
          "height": 34
        },
        "outputId": "b6daf13a-b198-4050-a6af-35d17ae5290a"
      },
      "source": [
        "# filling the missing values in the Functional column\n",
        "\n",
        "combine['Functional'].fillna(combine['Functional'].mode()[0], inplace = True)\n",
        "\n",
        "# checking if there are any left NULL values\n",
        "combine['Functional'].isnull().any()"
      ],
      "execution_count": 51,
      "outputs": [
        {
          "output_type": "execute_result",
          "data": {
            "text/plain": [
              "False"
            ]
          },
          "metadata": {
            "tags": []
          },
          "execution_count": 51
        }
      ]
    },
    {
      "cell_type": "code",
      "metadata": {
        "trusted": true,
        "_uuid": "2090825db08ae2698440785f05fd8181006bbce4",
        "id": "m6dyVRyGEJh_",
        "colab_type": "code",
        "colab": {
          "base_uri": "https://localhost:8080/",
          "height": 34
        },
        "outputId": "3cc7e28f-ea98-4d02-ef84-84001e69cadc"
      },
      "source": [
        "combine.isnull().sum().sum()"
      ],
      "execution_count": 52,
      "outputs": [
        {
          "output_type": "execute_result",
          "data": {
            "text/plain": [
              "0"
            ]
          },
          "metadata": {
            "tags": []
          },
          "execution_count": 52
        }
      ]
    },
    {
      "cell_type": "code",
      "metadata": {
        "trusted": true,
        "_uuid": "3445acaa5e214b50ce780e1165bd9ed032ab8430",
        "id": "vzvSCwPGEJiC",
        "colab_type": "code",
        "colab": {}
      },
      "source": [
        "# Transforming some numerical variables that are really categorical\n",
        "\n",
        "#MSSubClass=The building class\n",
        "combine['MSSubClass'] = combine['MSSubClass'].apply(str)\n",
        "\n",
        "\n",
        "#Changing OverallCond into a categorical variable\n",
        "combine['OverallCond'] = combine['OverallCond'].astype(str)\n",
        "\n",
        "\n",
        "#Year and month sold are transformed into categorical features.\n",
        "combine['YrSold'] = combine['YrSold'].astype(str)\n",
        "combine['MoSold'] = combine['MoSold'].astype(str)"
      ],
      "execution_count": 0,
      "outputs": []
    },
    {
      "cell_type": "code",
      "metadata": {
        "trusted": true,
        "_uuid": "f7083fab7957ce167a9f7618251bdcb7aea5413b",
        "id": "bNNaO8v4EJiE",
        "colab_type": "code",
        "colab": {
          "base_uri": "https://localhost:8080/",
          "height": 34
        },
        "outputId": "453541ea-8f6c-4977-ed68-851dbf1b65db"
      },
      "source": [
        "from sklearn.preprocessing import LabelEncoder\n",
        "\n",
        "cols = ('FireplaceQu', 'BsmtQual', 'BsmtCond', 'GarageQual', 'GarageCond', \n",
        "        'ExterQual', 'ExterCond','HeatingQC', 'PoolQC', 'KitchenQual', 'BsmtFinType1', \n",
        "        'BsmtFinType2', 'Functional', 'Fence', 'BsmtExposure', 'GarageFinish', 'LandSlope',\n",
        "        'LotShape', 'PavedDrive', 'Street', 'Alley', 'CentralAir', 'MSSubClass', 'OverallCond', \n",
        "        'YrSold', 'MoSold')\n",
        "\n",
        "# process columns, apply LabelEncoder to categorical features\n",
        "for c in cols:\n",
        "    lb = LabelEncoder() \n",
        "    lb.fit(list(combine[c].values)) \n",
        "    combine[c] = lb.transform(list(combine[c].values))\n",
        "\n",
        "# shape        \n",
        "print('Shape all_data: {}'.format(combine.shape))\n"
      ],
      "execution_count": 54,
      "outputs": [
        {
          "output_type": "stream",
          "text": [
            "Shape all_data: (2917, 78)\n"
          ],
          "name": "stdout"
        }
      ]
    },
    {
      "cell_type": "code",
      "metadata": {
        "trusted": true,
        "_uuid": "eb4398b3b1de9f4dd83105975456fc5ffa5be015",
        "id": "XADZFt43EJiF",
        "colab_type": "code",
        "colab": {
          "base_uri": "https://localhost:8080/",
          "height": 34
        },
        "outputId": "c84e3b03-f2ac-4db2-8f17-0f432702fab2"
      },
      "source": [
        "# FEATURE ENGINEERING\n",
        "# adding a new column total area as it is big determinant for prices of a home.\n",
        "\n",
        "combine['total_area'] = combine['1stFlrSF'] + combine['2ndFlrSF'] + combine['TotalBsmtSF']\n",
        "\n",
        "# looking at the new shape of the combine dataset\n",
        "combine.shape\n"
      ],
      "execution_count": 55,
      "outputs": [
        {
          "output_type": "execute_result",
          "data": {
            "text/plain": [
              "(2917, 79)"
            ]
          },
          "metadata": {
            "tags": []
          },
          "execution_count": 55
        }
      ]
    },
    {
      "cell_type": "code",
      "metadata": {
        "trusted": true,
        "_uuid": "fa3b3809e6c97e959c09e43347d090f9a25b3d4e",
        "id": "YCukY-FAEJiH",
        "colab_type": "code",
        "colab": {
          "base_uri": "https://localhost:8080/",
          "height": 343
        },
        "outputId": "1de5f59b-2612-4fa6-9872-4df0677c3045"
      },
      "source": [
        "# finding skewed features\n",
        "\n",
        "from scipy.stats import skew\n",
        "\n",
        "numerical_feats = combine.dtypes[combine.dtypes != 'object'].index\n",
        "\n",
        "# checking the skewness in all the numerical features\n",
        "skewed_feats = combine[numerical_feats].apply(lambda x: skew(x.dropna())).sort_values(ascending = False)\n",
        "\n",
        "# converting the features into a dataframe\n",
        "skewness = pd.DataFrame({'skew':skewed_feats})\n",
        "\n",
        "# checking the head of skewness dataset\n",
        "skewness.head(10)"
      ],
      "execution_count": 56,
      "outputs": [
        {
          "output_type": "execute_result",
          "data": {
            "text/html": [
              "<div>\n",
              "<style scoped>\n",
              "    .dataframe tbody tr th:only-of-type {\n",
              "        vertical-align: middle;\n",
              "    }\n",
              "\n",
              "    .dataframe tbody tr th {\n",
              "        vertical-align: top;\n",
              "    }\n",
              "\n",
              "    .dataframe thead th {\n",
              "        text-align: right;\n",
              "    }\n",
              "</style>\n",
              "<table border=\"1\" class=\"dataframe\">\n",
              "  <thead>\n",
              "    <tr style=\"text-align: right;\">\n",
              "      <th></th>\n",
              "      <th>skew</th>\n",
              "    </tr>\n",
              "  </thead>\n",
              "  <tbody>\n",
              "    <tr>\n",
              "      <th>MiscVal</th>\n",
              "      <td>21.939672</td>\n",
              "    </tr>\n",
              "    <tr>\n",
              "      <th>PoolArea</th>\n",
              "      <td>17.688664</td>\n",
              "    </tr>\n",
              "    <tr>\n",
              "      <th>LotArea</th>\n",
              "      <td>13.109495</td>\n",
              "    </tr>\n",
              "    <tr>\n",
              "      <th>LowQualFinSF</th>\n",
              "      <td>12.084539</td>\n",
              "    </tr>\n",
              "    <tr>\n",
              "      <th>3SsnPorch</th>\n",
              "      <td>11.372080</td>\n",
              "    </tr>\n",
              "    <tr>\n",
              "      <th>LandSlope</th>\n",
              "      <td>4.973254</td>\n",
              "    </tr>\n",
              "    <tr>\n",
              "      <th>KitchenAbvGr</th>\n",
              "      <td>4.300550</td>\n",
              "    </tr>\n",
              "    <tr>\n",
              "      <th>BsmtFinSF2</th>\n",
              "      <td>4.144503</td>\n",
              "    </tr>\n",
              "    <tr>\n",
              "      <th>EnclosedPorch</th>\n",
              "      <td>4.002344</td>\n",
              "    </tr>\n",
              "    <tr>\n",
              "      <th>ScreenPorch</th>\n",
              "      <td>3.945101</td>\n",
              "    </tr>\n",
              "  </tbody>\n",
              "</table>\n",
              "</div>"
            ],
            "text/plain": [
              "                    skew\n",
              "MiscVal        21.939672\n",
              "PoolArea       17.688664\n",
              "LotArea        13.109495\n",
              "LowQualFinSF   12.084539\n",
              "3SsnPorch      11.372080\n",
              "LandSlope       4.973254\n",
              "KitchenAbvGr    4.300550\n",
              "BsmtFinSF2      4.144503\n",
              "EnclosedPorch   4.002344\n",
              "ScreenPorch     3.945101"
            ]
          },
          "metadata": {
            "tags": []
          },
          "execution_count": 56
        }
      ]
    },
    {
      "cell_type": "code",
      "metadata": {
        "trusted": true,
        "_uuid": "914aa4945c486c413f17e523f0f2ad95abdc14b3",
        "id": "r16LOtEmEJiJ",
        "colab_type": "code",
        "colab": {
          "base_uri": "https://localhost:8080/",
          "height": 34
        },
        "outputId": "14821df9-feb6-481e-bc53-80d6727ac3ac"
      },
      "source": [
        "# applying box-cox transformations\n",
        "\n",
        "skewness = skewness[abs(skewness > 0.8)]\n",
        "\n",
        "# printing how many features are to be box-cox transformed\n",
        "print(\"There are {} skewed numerical features to box cox transform\".format(skewness.shape[0]))\n",
        "\n",
        "# importing box-cox1p\n",
        "from scipy.special import boxcox1p\n",
        "\n",
        "# defining skewed features\n",
        "skewed_features = skewness.index\n",
        "\n",
        "lam = 0.15\n",
        "for feat in skewed_features:\n",
        "    combine[feat] += 1\n",
        "    combine[feat] = boxcox1p(combine[feat], lam)\n",
        "  \n",
        "combine[skewed_features] = np.log1p(combine[skewed_features])"
      ],
      "execution_count": 57,
      "outputs": [
        {
          "output_type": "stream",
          "text": [
            "There are 58 skewed numerical features to box cox transform\n"
          ],
          "name": "stdout"
        }
      ]
    },
    {
      "cell_type": "code",
      "metadata": {
        "trusted": true,
        "_uuid": "b3d11209ccffe99cbaf05302519a2282bc8b8bd2",
        "id": "nbLHr0RlEJiM",
        "colab_type": "code",
        "colab": {
          "base_uri": "https://localhost:8080/",
          "height": 244
        },
        "outputId": "94b8d23c-5cda-4fb2-b99b-0cd4d35b2676"
      },
      "source": [
        "# one hot encoding for all the categorical variables\n",
        "\n",
        "combine = pd.get_dummies(combine)\n",
        "\n",
        "# checking the head of the dataset\n",
        "combine.head()"
      ],
      "execution_count": 58,
      "outputs": [
        {
          "output_type": "execute_result",
          "data": {
            "text/html": [
              "<div>\n",
              "<style scoped>\n",
              "    .dataframe tbody tr th:only-of-type {\n",
              "        vertical-align: middle;\n",
              "    }\n",
              "\n",
              "    .dataframe tbody tr th {\n",
              "        vertical-align: top;\n",
              "    }\n",
              "\n",
              "    .dataframe thead th {\n",
              "        text-align: right;\n",
              "    }\n",
              "</style>\n",
              "<table border=\"1\" class=\"dataframe\">\n",
              "  <thead>\n",
              "    <tr style=\"text-align: right;\">\n",
              "      <th></th>\n",
              "      <th>MSSubClass</th>\n",
              "      <th>LotFrontage</th>\n",
              "      <th>LotArea</th>\n",
              "      <th>Street</th>\n",
              "      <th>Alley</th>\n",
              "      <th>LotShape</th>\n",
              "      <th>LandSlope</th>\n",
              "      <th>OverallQual</th>\n",
              "      <th>OverallCond</th>\n",
              "      <th>YearBuilt</th>\n",
              "      <th>YearRemodAdd</th>\n",
              "      <th>MasVnrArea</th>\n",
              "      <th>ExterQual</th>\n",
              "      <th>ExterCond</th>\n",
              "      <th>BsmtQual</th>\n",
              "      <th>BsmtCond</th>\n",
              "      <th>BsmtExposure</th>\n",
              "      <th>BsmtFinType1</th>\n",
              "      <th>BsmtFinSF1</th>\n",
              "      <th>BsmtFinType2</th>\n",
              "      <th>BsmtFinSF2</th>\n",
              "      <th>BsmtUnfSF</th>\n",
              "      <th>TotalBsmtSF</th>\n",
              "      <th>HeatingQC</th>\n",
              "      <th>CentralAir</th>\n",
              "      <th>1stFlrSF</th>\n",
              "      <th>2ndFlrSF</th>\n",
              "      <th>LowQualFinSF</th>\n",
              "      <th>GrLivArea</th>\n",
              "      <th>BsmtFullBath</th>\n",
              "      <th>BsmtHalfBath</th>\n",
              "      <th>FullBath</th>\n",
              "      <th>HalfBath</th>\n",
              "      <th>BedroomAbvGr</th>\n",
              "      <th>KitchenAbvGr</th>\n",
              "      <th>KitchenQual</th>\n",
              "      <th>TotRmsAbvGrd</th>\n",
              "      <th>Functional</th>\n",
              "      <th>Fireplaces</th>\n",
              "      <th>FireplaceQu</th>\n",
              "      <th>...</th>\n",
              "      <th>GarageYrBlt_1993.0</th>\n",
              "      <th>GarageYrBlt_1994.0</th>\n",
              "      <th>GarageYrBlt_1995.0</th>\n",
              "      <th>GarageYrBlt_1996.0</th>\n",
              "      <th>GarageYrBlt_1997.0</th>\n",
              "      <th>GarageYrBlt_1998.0</th>\n",
              "      <th>GarageYrBlt_1999.0</th>\n",
              "      <th>GarageYrBlt_2000.0</th>\n",
              "      <th>GarageYrBlt_2001.0</th>\n",
              "      <th>GarageYrBlt_2002.0</th>\n",
              "      <th>GarageYrBlt_2003.0</th>\n",
              "      <th>GarageYrBlt_2004.0</th>\n",
              "      <th>GarageYrBlt_2005.0</th>\n",
              "      <th>GarageYrBlt_2006.0</th>\n",
              "      <th>GarageYrBlt_2007.0</th>\n",
              "      <th>GarageYrBlt_2008.0</th>\n",
              "      <th>GarageYrBlt_2009.0</th>\n",
              "      <th>GarageYrBlt_2010.0</th>\n",
              "      <th>GarageYrBlt_2207.0</th>\n",
              "      <th>GarageYrBlt_None</th>\n",
              "      <th>MiscFeature_Gar2</th>\n",
              "      <th>MiscFeature_None</th>\n",
              "      <th>MiscFeature_Othr</th>\n",
              "      <th>MiscFeature_Shed</th>\n",
              "      <th>MiscFeature_TenC</th>\n",
              "      <th>SaleType_COD</th>\n",
              "      <th>SaleType_CWD</th>\n",
              "      <th>SaleType_Con</th>\n",
              "      <th>SaleType_ConLD</th>\n",
              "      <th>SaleType_ConLI</th>\n",
              "      <th>SaleType_ConLw</th>\n",
              "      <th>SaleType_New</th>\n",
              "      <th>SaleType_Oth</th>\n",
              "      <th>SaleType_WD</th>\n",
              "      <th>SaleCondition_Abnorml</th>\n",
              "      <th>SaleCondition_AdjLand</th>\n",
              "      <th>SaleCondition_Alloca</th>\n",
              "      <th>SaleCondition_Family</th>\n",
              "      <th>SaleCondition_Normal</th>\n",
              "      <th>SaleCondition_Partial</th>\n",
              "    </tr>\n",
              "  </thead>\n",
              "  <tbody>\n",
              "    <tr>\n",
              "      <th>0</th>\n",
              "      <td>1.389125</td>\n",
              "      <td>1.925642</td>\n",
              "      <td>3.006308</td>\n",
              "      <td>0.785871</td>\n",
              "      <td>0.785871</td>\n",
              "      <td>1.036855</td>\n",
              "      <td>0.548389</td>\n",
              "      <td>1.281654</td>\n",
              "      <td>1.116990</td>\n",
              "      <td>2.720577</td>\n",
              "      <td>2.720577</td>\n",
              "      <td>2.205007</td>\n",
              "      <td>0.932543</td>\n",
              "      <td>1.11699</td>\n",
              "      <td>0.932543</td>\n",
              "      <td>1.116990</td>\n",
              "      <td>1.036855</td>\n",
              "      <td>0.932543</td>\n",
              "      <td>2.499311</td>\n",
              "      <td>1.235549</td>\n",
              "      <td>0.548389</td>\n",
              "      <td>2.139750</td>\n",
              "      <td>2.541274</td>\n",
              "      <td>0.548389</td>\n",
              "      <td>0.785871</td>\n",
              "      <td>2.541274</td>\n",
              "      <td>2.540768</td>\n",
              "      <td>0.548389</td>\n",
              "      <td>2.687893</td>\n",
              "      <td>0.785871</td>\n",
              "      <td>0.548389</td>\n",
              "      <td>0.932543</td>\n",
              "      <td>0.785871</td>\n",
              "      <td>1.036855</td>\n",
              "      <td>0.785871</td>\n",
              "      <td>0.932543</td>\n",
              "      <td>1.321823</td>\n",
              "      <td>1.235549</td>\n",
              "      <td>0.548389</td>\n",
              "      <td>1.036855</td>\n",
              "      <td>...</td>\n",
              "      <td>0</td>\n",
              "      <td>0</td>\n",
              "      <td>0</td>\n",
              "      <td>0</td>\n",
              "      <td>0</td>\n",
              "      <td>0</td>\n",
              "      <td>0</td>\n",
              "      <td>0</td>\n",
              "      <td>0</td>\n",
              "      <td>0</td>\n",
              "      <td>1</td>\n",
              "      <td>0</td>\n",
              "      <td>0</td>\n",
              "      <td>0</td>\n",
              "      <td>0</td>\n",
              "      <td>0</td>\n",
              "      <td>0</td>\n",
              "      <td>0</td>\n",
              "      <td>0</td>\n",
              "      <td>0</td>\n",
              "      <td>0</td>\n",
              "      <td>1</td>\n",
              "      <td>0</td>\n",
              "      <td>0</td>\n",
              "      <td>0</td>\n",
              "      <td>0</td>\n",
              "      <td>0</td>\n",
              "      <td>0</td>\n",
              "      <td>0</td>\n",
              "      <td>0</td>\n",
              "      <td>0</td>\n",
              "      <td>0</td>\n",
              "      <td>0</td>\n",
              "      <td>1</td>\n",
              "      <td>0</td>\n",
              "      <td>0</td>\n",
              "      <td>0</td>\n",
              "      <td>0</td>\n",
              "      <td>1</td>\n",
              "      <td>0</td>\n",
              "    </tr>\n",
              "    <tr>\n",
              "      <th>1</th>\n",
              "      <td>1.181627</td>\n",
              "      <td>1.980305</td>\n",
              "      <td>3.030743</td>\n",
              "      <td>0.785871</td>\n",
              "      <td>0.785871</td>\n",
              "      <td>1.036855</td>\n",
              "      <td>0.548389</td>\n",
              "      <td>1.235549</td>\n",
              "      <td>1.281654</td>\n",
              "      <td>2.717784</td>\n",
              "      <td>2.717784</td>\n",
              "      <td>0.548389</td>\n",
              "      <td>1.036855</td>\n",
              "      <td>1.11699</td>\n",
              "      <td>0.932543</td>\n",
              "      <td>1.116990</td>\n",
              "      <td>0.785871</td>\n",
              "      <td>0.548389</td>\n",
              "      <td>2.569990</td>\n",
              "      <td>1.235549</td>\n",
              "      <td>0.548389</td>\n",
              "      <td>2.293143</td>\n",
              "      <td>2.624276</td>\n",
              "      <td>0.548389</td>\n",
              "      <td>0.785871</td>\n",
              "      <td>2.624276</td>\n",
              "      <td>0.548389</td>\n",
              "      <td>0.548389</td>\n",
              "      <td>2.624276</td>\n",
              "      <td>0.548389</td>\n",
              "      <td>0.785871</td>\n",
              "      <td>0.932543</td>\n",
              "      <td>0.548389</td>\n",
              "      <td>1.036855</td>\n",
              "      <td>0.785871</td>\n",
              "      <td>1.036855</td>\n",
              "      <td>1.235549</td>\n",
              "      <td>1.235549</td>\n",
              "      <td>0.785871</td>\n",
              "      <td>1.181627</td>\n",
              "      <td>...</td>\n",
              "      <td>0</td>\n",
              "      <td>0</td>\n",
              "      <td>0</td>\n",
              "      <td>0</td>\n",
              "      <td>0</td>\n",
              "      <td>0</td>\n",
              "      <td>0</td>\n",
              "      <td>0</td>\n",
              "      <td>0</td>\n",
              "      <td>0</td>\n",
              "      <td>0</td>\n",
              "      <td>0</td>\n",
              "      <td>0</td>\n",
              "      <td>0</td>\n",
              "      <td>0</td>\n",
              "      <td>0</td>\n",
              "      <td>0</td>\n",
              "      <td>0</td>\n",
              "      <td>0</td>\n",
              "      <td>0</td>\n",
              "      <td>0</td>\n",
              "      <td>1</td>\n",
              "      <td>0</td>\n",
              "      <td>0</td>\n",
              "      <td>0</td>\n",
              "      <td>0</td>\n",
              "      <td>0</td>\n",
              "      <td>0</td>\n",
              "      <td>0</td>\n",
              "      <td>0</td>\n",
              "      <td>0</td>\n",
              "      <td>0</td>\n",
              "      <td>0</td>\n",
              "      <td>1</td>\n",
              "      <td>0</td>\n",
              "      <td>0</td>\n",
              "      <td>0</td>\n",
              "      <td>0</td>\n",
              "      <td>1</td>\n",
              "      <td>0</td>\n",
              "    </tr>\n",
              "    <tr>\n",
              "      <th>2</th>\n",
              "      <td>1.389125</td>\n",
              "      <td>1.937608</td>\n",
              "      <td>3.060939</td>\n",
              "      <td>0.785871</td>\n",
              "      <td>0.785871</td>\n",
              "      <td>0.548389</td>\n",
              "      <td>0.548389</td>\n",
              "      <td>1.281654</td>\n",
              "      <td>1.116990</td>\n",
              "      <td>2.720372</td>\n",
              "      <td>2.720474</td>\n",
              "      <td>2.158677</td>\n",
              "      <td>0.932543</td>\n",
              "      <td>1.11699</td>\n",
              "      <td>0.932543</td>\n",
              "      <td>1.116990</td>\n",
              "      <td>0.932543</td>\n",
              "      <td>0.932543</td>\n",
              "      <td>2.416408</td>\n",
              "      <td>1.235549</td>\n",
              "      <td>0.548389</td>\n",
              "      <td>2.390850</td>\n",
              "      <td>2.556844</td>\n",
              "      <td>0.548389</td>\n",
              "      <td>0.785871</td>\n",
              "      <td>2.556844</td>\n",
              "      <td>2.543787</td>\n",
              "      <td>0.548389</td>\n",
              "      <td>2.696909</td>\n",
              "      <td>0.785871</td>\n",
              "      <td>0.548389</td>\n",
              "      <td>0.932543</td>\n",
              "      <td>0.785871</td>\n",
              "      <td>1.036855</td>\n",
              "      <td>0.785871</td>\n",
              "      <td>0.932543</td>\n",
              "      <td>1.235549</td>\n",
              "      <td>1.235549</td>\n",
              "      <td>0.785871</td>\n",
              "      <td>1.181627</td>\n",
              "      <td>...</td>\n",
              "      <td>0</td>\n",
              "      <td>0</td>\n",
              "      <td>0</td>\n",
              "      <td>0</td>\n",
              "      <td>0</td>\n",
              "      <td>0</td>\n",
              "      <td>0</td>\n",
              "      <td>0</td>\n",
              "      <td>1</td>\n",
              "      <td>0</td>\n",
              "      <td>0</td>\n",
              "      <td>0</td>\n",
              "      <td>0</td>\n",
              "      <td>0</td>\n",
              "      <td>0</td>\n",
              "      <td>0</td>\n",
              "      <td>0</td>\n",
              "      <td>0</td>\n",
              "      <td>0</td>\n",
              "      <td>0</td>\n",
              "      <td>0</td>\n",
              "      <td>1</td>\n",
              "      <td>0</td>\n",
              "      <td>0</td>\n",
              "      <td>0</td>\n",
              "      <td>0</td>\n",
              "      <td>0</td>\n",
              "      <td>0</td>\n",
              "      <td>0</td>\n",
              "      <td>0</td>\n",
              "      <td>0</td>\n",
              "      <td>0</td>\n",
              "      <td>0</td>\n",
              "      <td>1</td>\n",
              "      <td>0</td>\n",
              "      <td>0</td>\n",
              "      <td>0</td>\n",
              "      <td>0</td>\n",
              "      <td>1</td>\n",
              "      <td>0</td>\n",
              "    </tr>\n",
              "    <tr>\n",
              "      <th>3</th>\n",
              "      <td>1.417851</td>\n",
              "      <td>1.904295</td>\n",
              "      <td>3.029746</td>\n",
              "      <td>0.785871</td>\n",
              "      <td>0.785871</td>\n",
              "      <td>0.548389</td>\n",
              "      <td>0.548389</td>\n",
              "      <td>1.281654</td>\n",
              "      <td>1.116990</td>\n",
              "      <td>2.711322</td>\n",
              "      <td>2.717158</td>\n",
              "      <td>0.548389</td>\n",
              "      <td>1.036855</td>\n",
              "      <td>1.11699</td>\n",
              "      <td>1.116990</td>\n",
              "      <td>0.785871</td>\n",
              "      <td>1.036855</td>\n",
              "      <td>0.548389</td>\n",
              "      <td>2.228354</td>\n",
              "      <td>1.235549</td>\n",
              "      <td>0.548389</td>\n",
              "      <td>2.440018</td>\n",
              "      <td>2.514276</td>\n",
              "      <td>0.932543</td>\n",
              "      <td>0.785871</td>\n",
              "      <td>2.566225</td>\n",
              "      <td>2.514276</td>\n",
              "      <td>0.548389</td>\n",
              "      <td>2.688741</td>\n",
              "      <td>0.785871</td>\n",
              "      <td>0.548389</td>\n",
              "      <td>0.785871</td>\n",
              "      <td>0.548389</td>\n",
              "      <td>1.036855</td>\n",
              "      <td>0.785871</td>\n",
              "      <td>0.932543</td>\n",
              "      <td>1.281654</td>\n",
              "      <td>1.235549</td>\n",
              "      <td>0.785871</td>\n",
              "      <td>0.932543</td>\n",
              "      <td>...</td>\n",
              "      <td>0</td>\n",
              "      <td>0</td>\n",
              "      <td>0</td>\n",
              "      <td>0</td>\n",
              "      <td>0</td>\n",
              "      <td>1</td>\n",
              "      <td>0</td>\n",
              "      <td>0</td>\n",
              "      <td>0</td>\n",
              "      <td>0</td>\n",
              "      <td>0</td>\n",
              "      <td>0</td>\n",
              "      <td>0</td>\n",
              "      <td>0</td>\n",
              "      <td>0</td>\n",
              "      <td>0</td>\n",
              "      <td>0</td>\n",
              "      <td>0</td>\n",
              "      <td>0</td>\n",
              "      <td>0</td>\n",
              "      <td>0</td>\n",
              "      <td>1</td>\n",
              "      <td>0</td>\n",
              "      <td>0</td>\n",
              "      <td>0</td>\n",
              "      <td>0</td>\n",
              "      <td>0</td>\n",
              "      <td>0</td>\n",
              "      <td>0</td>\n",
              "      <td>0</td>\n",
              "      <td>0</td>\n",
              "      <td>0</td>\n",
              "      <td>0</td>\n",
              "      <td>1</td>\n",
              "      <td>1</td>\n",
              "      <td>0</td>\n",
              "      <td>0</td>\n",
              "      <td>0</td>\n",
              "      <td>0</td>\n",
              "      <td>0</td>\n",
              "    </tr>\n",
              "    <tr>\n",
              "      <th>4</th>\n",
              "      <td>1.389125</td>\n",
              "      <td>1.993002</td>\n",
              "      <td>3.105727</td>\n",
              "      <td>0.785871</td>\n",
              "      <td>0.785871</td>\n",
              "      <td>0.548389</td>\n",
              "      <td>0.548389</td>\n",
              "      <td>1.321823</td>\n",
              "      <td>1.116990</td>\n",
              "      <td>2.720269</td>\n",
              "      <td>2.720269</td>\n",
              "      <td>2.341679</td>\n",
              "      <td>0.932543</td>\n",
              "      <td>1.11699</td>\n",
              "      <td>0.932543</td>\n",
              "      <td>1.116990</td>\n",
              "      <td>0.548389</td>\n",
              "      <td>0.932543</td>\n",
              "      <td>2.482834</td>\n",
              "      <td>1.235549</td>\n",
              "      <td>0.548389</td>\n",
              "      <td>2.418251</td>\n",
              "      <td>2.603659</td>\n",
              "      <td>0.548389</td>\n",
              "      <td>0.785871</td>\n",
              "      <td>2.603659</td>\n",
              "      <td>2.585812</td>\n",
              "      <td>0.548389</td>\n",
              "      <td>2.739644</td>\n",
              "      <td>0.785871</td>\n",
              "      <td>0.548389</td>\n",
              "      <td>0.932543</td>\n",
              "      <td>0.785871</td>\n",
              "      <td>1.116990</td>\n",
              "      <td>0.785871</td>\n",
              "      <td>0.932543</td>\n",
              "      <td>1.357341</td>\n",
              "      <td>1.235549</td>\n",
              "      <td>0.785871</td>\n",
              "      <td>1.181627</td>\n",
              "      <td>...</td>\n",
              "      <td>0</td>\n",
              "      <td>0</td>\n",
              "      <td>0</td>\n",
              "      <td>0</td>\n",
              "      <td>0</td>\n",
              "      <td>0</td>\n",
              "      <td>0</td>\n",
              "      <td>1</td>\n",
              "      <td>0</td>\n",
              "      <td>0</td>\n",
              "      <td>0</td>\n",
              "      <td>0</td>\n",
              "      <td>0</td>\n",
              "      <td>0</td>\n",
              "      <td>0</td>\n",
              "      <td>0</td>\n",
              "      <td>0</td>\n",
              "      <td>0</td>\n",
              "      <td>0</td>\n",
              "      <td>0</td>\n",
              "      <td>0</td>\n",
              "      <td>1</td>\n",
              "      <td>0</td>\n",
              "      <td>0</td>\n",
              "      <td>0</td>\n",
              "      <td>0</td>\n",
              "      <td>0</td>\n",
              "      <td>0</td>\n",
              "      <td>0</td>\n",
              "      <td>0</td>\n",
              "      <td>0</td>\n",
              "      <td>0</td>\n",
              "      <td>0</td>\n",
              "      <td>1</td>\n",
              "      <td>0</td>\n",
              "      <td>0</td>\n",
              "      <td>0</td>\n",
              "      <td>0</td>\n",
              "      <td>1</td>\n",
              "      <td>0</td>\n",
              "    </tr>\n",
              "  </tbody>\n",
              "</table>\n",
              "<p>5 rows × 324 columns</p>\n",
              "</div>"
            ],
            "text/plain": [
              "   MSSubClass  LotFrontage  ...  SaleCondition_Normal  SaleCondition_Partial\n",
              "0    1.389125     1.925642  ...                     1                      0\n",
              "1    1.181627     1.980305  ...                     1                      0\n",
              "2    1.389125     1.937608  ...                     1                      0\n",
              "3    1.417851     1.904295  ...                     0                      0\n",
              "4    1.389125     1.993002  ...                     1                      0\n",
              "\n",
              "[5 rows x 324 columns]"
            ]
          },
          "metadata": {
            "tags": []
          },
          "execution_count": 58
        }
      ]
    },
    {
      "cell_type": "code",
      "metadata": {
        "trusted": true,
        "_uuid": "bc217d1a8ccfc084062a53c9a412808fb15a8743",
        "id": "ttJ9YDmREJiP",
        "colab_type": "code",
        "colab": {
          "base_uri": "https://localhost:8080/",
          "height": 50
        },
        "outputId": "dffd60b1-6a63-456f-c352-687f44c87f72"
      },
      "source": [
        "# separating the train and test datasets\n",
        "\n",
        "x_train = combine.iloc[:ntrain]\n",
        "x_test = combine.iloc[ntrain:]\n",
        "\n",
        "# checking the shapes of train and test datasets\n",
        "print(\"Shape of train :\", x_train.shape)\n",
        "print(\"Shape of test :\", x_test.shape)"
      ],
      "execution_count": 59,
      "outputs": [
        {
          "output_type": "stream",
          "text": [
            "Shape of train : (1458, 324)\n",
            "Shape of test : (1459, 324)\n"
          ],
          "name": "stdout"
        }
      ]
    },
    {
      "cell_type": "code",
      "metadata": {
        "trusted": true,
        "_uuid": "9a1e26838dfdbd743455c436605aef845919be08",
        "id": "CUS-NdO5EJiS",
        "colab_type": "code",
        "colab": {}
      },
      "source": [
        "#Validation function\n",
        "n_folds = 5\n",
        "from sklearn.model_selection import KFold\n",
        "from sklearn.model_selection import cross_val_score\n",
        "from sklearn.metrics import mean_squared_error\n",
        "\n",
        "def rmsle_cv(model):\n",
        "    kf = KFold(n_folds, shuffle=True, random_state=42).get_n_splits(x_train.values)\n",
        "    rmse= np.sqrt(-cross_val_score(model, x_train.values, y_train, scoring=\"neg_mean_squared_error\", cv = kf))\n",
        "    return(rmse)"
      ],
      "execution_count": 0,
      "outputs": []
    },
    {
      "cell_type": "code",
      "metadata": {
        "trusted": true,
        "scrolled": false,
        "_uuid": "0d6315cd7b825b3ee9f9a4dc13133b8c301abd99",
        "id": "b2yl1YMZEJiV",
        "colab_type": "code",
        "colab": {
          "base_uri": "https://localhost:8080/",
          "height": 185
        },
        "outputId": "f33753bf-4cae-4ffb-dd2c-a93f3f662ab8"
      },
      "source": [
        "# LASSO MODEL\n",
        "# WITH PIPELINE  and using robust scalerTO AVOID SENSITIVITY TOWARDS OUTLIERS\n",
        "\n",
        "from sklearn.pipeline import make_pipeline\n",
        "from sklearn.preprocessing import RobustScaler\n",
        "\n",
        "from sklearn.linear_model import Lasso\n",
        "\n",
        "lasso = make_pipeline(RobustScaler(), Lasso(alpha = 0.0005, random_state = 3))\n",
        "lasso.fit(x_train, y_train)\n"
      ],
      "execution_count": 61,
      "outputs": [
        {
          "output_type": "execute_result",
          "data": {
            "text/plain": [
              "Pipeline(memory=None,\n",
              "         steps=[('robustscaler',\n",
              "                 RobustScaler(copy=True, quantile_range=(25.0, 75.0),\n",
              "                              with_centering=True, with_scaling=True)),\n",
              "                ('lasso',\n",
              "                 Lasso(alpha=0.0005, copy_X=True, fit_intercept=True,\n",
              "                       max_iter=1000, normalize=False, positive=False,\n",
              "                       precompute=False, random_state=3, selection='cyclic',\n",
              "                       tol=0.0001, warm_start=False))],\n",
              "         verbose=False)"
            ]
          },
          "metadata": {
            "tags": []
          },
          "execution_count": 61
        }
      ]
    },
    {
      "cell_type": "code",
      "metadata": {
        "trusted": true,
        "scrolled": true,
        "_uuid": "a36afc69178c55757debac31f05130aab73ce5a5",
        "id": "HSQYAUyGEJiX",
        "colab_type": "code",
        "colab": {
          "base_uri": "https://localhost:8080/",
          "height": 67
        },
        "outputId": "a56cb441-4a7c-4534-bd59-4bb55d60a1aa"
      },
      "source": [
        "score = rmsle_cv(lasso)\n",
        "print(\"\\nLasso score: {:.4f} ({:.4f})\\n\".format(score.mean(), score.std()))"
      ],
      "execution_count": 62,
      "outputs": [
        {
          "output_type": "stream",
          "text": [
            "\n",
            "Lasso score: 0.1135 (0.0073)\n",
            "\n"
          ],
          "name": "stdout"
        }
      ]
    },
    {
      "cell_type": "code",
      "metadata": {
        "trusted": true,
        "scrolled": true,
        "_uuid": "da1d29f003fe1d86923e266369c88171b5fb3674",
        "id": "W3M0yNM3EJiZ",
        "colab_type": "code",
        "colab": {
          "base_uri": "https://localhost:8080/",
          "height": 235
        },
        "outputId": "4895954e-fdb1-4faf-94b4-00025672eaec"
      },
      "source": [
        "# making an Elastic Net model\n",
        "from sklearn.linear_model import ElasticNet\n",
        "\n",
        "ENet = make_pipeline(RobustScaler(), ElasticNet(alpha=0.0005, l1_ratio=.9, random_state=3))\n",
        "\n",
        "score = rmsle_cv(ENet)\n",
        "print(\"ElasticNet score: {:.4f} ({:.4f})\\n\".format(score.mean(), score.std()))\n",
        "\n",
        "ENet.fit(x_train, y_train)\n"
      ],
      "execution_count": 63,
      "outputs": [
        {
          "output_type": "stream",
          "text": [
            "ElasticNet score: 0.1135 (0.0073)\n",
            "\n"
          ],
          "name": "stdout"
        },
        {
          "output_type": "execute_result",
          "data": {
            "text/plain": [
              "Pipeline(memory=None,\n",
              "         steps=[('robustscaler',\n",
              "                 RobustScaler(copy=True, quantile_range=(25.0, 75.0),\n",
              "                              with_centering=True, with_scaling=True)),\n",
              "                ('elasticnet',\n",
              "                 ElasticNet(alpha=0.0005, copy_X=True, fit_intercept=True,\n",
              "                            l1_ratio=0.9, max_iter=1000, normalize=False,\n",
              "                            positive=False, precompute=False, random_state=3,\n",
              "                            selection='cyclic', tol=0.0001,\n",
              "                            warm_start=False))],\n",
              "         verbose=False)"
            ]
          },
          "metadata": {
            "tags": []
          },
          "execution_count": 63
        }
      ]
    },
    {
      "cell_type": "code",
      "metadata": {
        "trusted": true,
        "_uuid": "f6de8d3b8db2081e46190d1902b654784d152132",
        "id": "t46PmHD_EJia",
        "colab_type": "code",
        "colab": {
          "base_uri": "https://localhost:8080/",
          "height": 50
        },
        "outputId": "6331e779-a3b0-467e-86b0-58b46077f595"
      },
      "source": [
        "from sklearn.ensemble import GradientBoostingRegressor\n",
        "\n",
        "# making a gradint boosting model\n",
        "GBoost = GradientBoostingRegressor(n_estimators=3000, learning_rate=0.05,\n",
        "                                   max_depth=4, max_features='sqrt',\n",
        "                                   min_samples_leaf=15, min_samples_split=10, \n",
        "                                   loss='huber', random_state =5)\n",
        "\n",
        "score = rmsle_cv(GBoost)\n",
        "print(\"ElasticNet score: {:.4f} ({:.4f})\\n\".format(score.mean(), score.std()))"
      ],
      "execution_count": 64,
      "outputs": [
        {
          "output_type": "stream",
          "text": [
            "ElasticNet score: 0.1158 (0.0067)\n",
            "\n"
          ],
          "name": "stdout"
        }
      ]
    },
    {
      "cell_type": "code",
      "metadata": {
        "trusted": true,
        "_uuid": "f119416b608b5510f75e0de35d131957016075de",
        "id": "WQWUE0BgEJid",
        "colab_type": "code",
        "colab": {}
      },
      "source": [
        "# making predictions\n",
        "GBoost.fit(x_train, y_train)\n",
        "predictions = GBoost.predict(x_test)"
      ],
      "execution_count": 0,
      "outputs": []
    },
    {
      "cell_type": "code",
      "metadata": {
        "trusted": true,
        "_uuid": "6436d584b67063c2330ca55fdf8cb891c3585872",
        "id": "eSw1z92jEJie",
        "colab_type": "code",
        "colab": {
          "base_uri": "https://localhost:8080/",
          "height": 185
        },
        "outputId": "a3601013-a167-4e91-967b-ad1a8bcaf4c2"
      },
      "source": [
        "# light gradient boosting\n",
        "import lightgbm as lgb\n",
        "\n",
        "model_lgb = lgb.LGBMRegressor(objective='regression',num_leaves=5,\n",
        "                              learning_rate=0.05, n_estimators=720,\n",
        "                              max_bin = 55, bagging_fraction = 0.8,\n",
        "                              bagging_freq = 5, feature_fraction = 0.2319,\n",
        "                              feature_fraction_seed=9, bagging_seed=9,\n",
        "                              min_data_in_leaf =6, min_sum_hessian_in_leaf = 11)\n",
        "\n",
        "model_lgb.fit(x_train, y_train)"
      ],
      "execution_count": 66,
      "outputs": [
        {
          "output_type": "execute_result",
          "data": {
            "text/plain": [
              "LGBMRegressor(bagging_fraction=0.8, bagging_freq=5, bagging_seed=9,\n",
              "              boosting_type='gbdt', class_weight=None, colsample_bytree=1.0,\n",
              "              feature_fraction=0.2319, feature_fraction_seed=9,\n",
              "              importance_type='split', learning_rate=0.05, max_bin=55,\n",
              "              max_depth=-1, min_child_samples=20, min_child_weight=0.001,\n",
              "              min_data_in_leaf=6, min_split_gain=0.0,\n",
              "              min_sum_hessian_in_leaf=11, n_estimators=720, n_jobs=-1,\n",
              "              num_leaves=5, objective='regression', random_state=None,\n",
              "              reg_alpha=0.0, reg_lambda=0.0, silent=True, subsample=1.0,\n",
              "              subsample_for_bin=200000, subsample_freq=0)"
            ]
          },
          "metadata": {
            "tags": []
          },
          "execution_count": 66
        }
      ]
    },
    {
      "cell_type": "code",
      "metadata": {
        "trusted": true,
        "_uuid": "6e3cdceced4916b518682f91b3567054c2bff377",
        "id": "L-4nxdDPEJig",
        "colab_type": "code",
        "colab": {}
      },
      "source": [
        "predictions = model_lgb.fit(x_train, y_train)"
      ],
      "execution_count": 0,
      "outputs": []
    },
    {
      "cell_type": "code",
      "metadata": {
        "trusted": true,
        "_uuid": "1f9c1b69ed7804d5185140b452da44720c69a66f",
        "id": "k1usYNZdEJii",
        "colab_type": "code",
        "colab": {
          "base_uri": "https://localhost:8080/",
          "height": 50
        },
        "outputId": "94ec3ca2-cbc0-4c33-f821-bb213e1d6a8f"
      },
      "source": [
        "# KERNEL RIDGE REGRESSION\n",
        "\n",
        "from sklearn.kernel_ridge import KernelRidge\n",
        "\n",
        "KRR = KernelRidge(alpha=0.6, kernel='polynomial', degree=2, coef0=2.5)\n",
        "score = rmsle_cv(KRR)\n",
        "print(\"Kernel Ridge score: {:.4f} ({:.4f})\\n\".format(score.mean(), score.std()))"
      ],
      "execution_count": 68,
      "outputs": [
        {
          "output_type": "stream",
          "text": [
            "Kernel Ridge score: 0.1589 (0.0077)\n",
            "\n"
          ],
          "name": "stdout"
        }
      ]
    },
    {
      "cell_type": "code",
      "metadata": {
        "trusted": true,
        "_uuid": "7020fe3f39e05e85f29cc04655789f53d655e6b5",
        "id": "Jil6_5D1EJik",
        "colab_type": "code",
        "colab": {}
      },
      "source": [
        "# STACKING\n",
        "# Simplest model -> Averaging Base Models\n",
        "\n",
        "from sklearn.base import BaseEstimator\n",
        "from sklearn.base import RegressorMixin\n",
        "from sklearn.base import TransformerMixin\n",
        "from sklearn.base import clone\n",
        "\n",
        "class AveragingModels(BaseEstimator, RegressorMixin, TransformerMixin):\n",
        "    def __init__(self, models):\n",
        "        self.models = models\n",
        "        \n",
        "    # we define clones of the original models to fit the data in\n",
        "    def fit(self, X, y):\n",
        "        self.models_ = [clone(x) for x in self.models]\n",
        "        \n",
        "        # Train cloned base models\n",
        "        for model in self.models_:\n",
        "            model.fit(X, y)\n",
        "        return self\n",
        "    \n",
        "    #Now we do the predictions for cloned models and average them\n",
        "    def predict(self, X):\n",
        "        predictions = np.column_stack([model.predict(X) for model in self.models_])\n",
        "        return np.mean(predictions, axis=1)   "
      ],
      "execution_count": 0,
      "outputs": []
    },
    {
      "cell_type": "code",
      "metadata": {
        "trusted": true,
        "_uuid": "7eb9744781b7812846bcbc2997909d4196d17ad5",
        "id": "RjSelZQOEJil",
        "colab_type": "code",
        "colab": {
          "base_uri": "https://localhost:8080/",
          "height": 50
        },
        "outputId": "db988402-91b8-4ad8-ca21-b13094ccc724"
      },
      "source": [
        "averaged_models = AveragingModels(models = (ENet, GBoost, KRR, lasso))\n",
        "\n",
        "score = rmsle_cv(averaged_models)\n",
        "print(\" Averaged base models score: {:.4f} ({:.4f})\\n\".format(score.mean(), score.std()))\n"
      ],
      "execution_count": 70,
      "outputs": [
        {
          "output_type": "stream",
          "text": [
            " Averaged base models score: 0.1138 (0.0071)\n",
            "\n"
          ],
          "name": "stdout"
        }
      ]
    },
    {
      "cell_type": "code",
      "metadata": {
        "trusted": true,
        "_uuid": "1cfb1e75e751f7dd4ba7c8938ab9b281b87384f6",
        "id": "vHopHyuQEJin",
        "colab_type": "code",
        "colab": {}
      },
      "source": [
        "class StackingAveragedModels(BaseEstimator, RegressorMixin, TransformerMixin):\n",
        "    def __init__(self, base_models, meta_model, n_folds=5):\n",
        "        self.base_models = base_models\n",
        "        self.meta_model = meta_model\n",
        "        self.n_folds = n_folds\n",
        "   \n",
        "    # We again fit the data on clones of the original models\n",
        "    def fit(self, X, y):\n",
        "        self.base_models_ = [list() for x in self.base_models]\n",
        "        self.meta_model_ = clone(self.meta_model)\n",
        "        kfold = KFold(n_splits=self.n_folds, shuffle=True, random_state=156)\n",
        "        \n",
        "        # Train cloned base models then create out-of-fold predictions\n",
        "        # that are needed to train the cloned meta-model\n",
        "        out_of_fold_predictions = np.zeros((X.shape[0], len(self.base_models)))\n",
        "        for i, model in enumerate(self.base_models):\n",
        "            for train_index, holdout_index in kfold.split(X, y):\n",
        "                instance = clone(model)\n",
        "                self.base_models_[i].append(instance)\n",
        "                instance.fit(X[train_index], y[train_index])\n",
        "                y_pred = instance.predict(X[holdout_index])\n",
        "                out_of_fold_predictions[holdout_index, i] = y_pred\n",
        "                \n",
        "        # Now train the cloned  meta-model using the out-of-fold predictions as new feature\n",
        "        self.meta_model_.fit(out_of_fold_predictions, y)\n",
        "        return self\n",
        "   \n",
        "    #Do the predictions of all base models on the test data and use the averaged predictions as \n",
        "    #meta-features for the final prediction which is done by the meta-model\n",
        "    def predict(self, X):\n",
        "        meta_features = np.column_stack([\n",
        "            np.column_stack([model.predict(X) for model in base_models]).mean(axis=1)\n",
        "            for base_models in self.base_models_ ])\n",
        "        return self.meta_model_.predict(meta_features)"
      ],
      "execution_count": 0,
      "outputs": []
    },
    {
      "cell_type": "code",
      "metadata": {
        "trusted": true,
        "_uuid": "3a0210a4805b060438b6a6efc15d6b9a15e71738",
        "id": "_n1ctl3eEJip",
        "colab_type": "code",
        "colab": {
          "base_uri": "https://localhost:8080/",
          "height": 34
        },
        "outputId": "3835c2bb-82b1-4861-8e88-d737311808b8"
      },
      "source": [
        "stacked_averaged_models = StackingAveragedModels(base_models = (ENet, GBoost, KRR),\n",
        "                                                 meta_model = lasso)\n",
        "\n",
        "score = rmsle_cv(stacked_averaged_models)\n",
        "print(\"Stacking Averaged models score: {:.4f} ({:.4f})\".format(score.mean(), score.std()))"
      ],
      "execution_count": 72,
      "outputs": [
        {
          "output_type": "stream",
          "text": [
            "Stacking Averaged models score: 0.1085 (0.0069)\n"
          ],
          "name": "stdout"
        }
      ]
    },
    {
      "cell_type": "code",
      "metadata": {
        "trusted": true,
        "_uuid": "cee4675433d0cf772fc54dc97fac8e16eb8d35ec",
        "id": "nt-RngC9EJiq",
        "colab_type": "code",
        "colab": {}
      },
      "source": [
        "def rmsle(y, y_pred):\n",
        "    return np.sqrt(mean_squared_error(y, y_pred))"
      ],
      "execution_count": 0,
      "outputs": []
    },
    {
      "cell_type": "code",
      "metadata": {
        "trusted": true,
        "_uuid": "4d4443a10ebbfec9a7029777ce18e5b0391959b8",
        "id": "suHaQySdEJir",
        "colab_type": "code",
        "colab": {
          "base_uri": "https://localhost:8080/",
          "height": 34
        },
        "outputId": "d655584c-302e-4ff4-f263-1401f56cf5ed"
      },
      "source": [
        "stacked_averaged_models.fit(x_train.values, y_train)\n",
        "stacked_train_pred = stacked_averaged_models.predict(x_train.values)\n",
        "stacked_pred = np.expm1(stacked_averaged_models.predict(x_test.values))\n",
        "print(rmsle(y_train, stacked_train_pred))\n"
      ],
      "execution_count": 74,
      "outputs": [
        {
          "output_type": "stream",
          "text": [
            "0.07804105262897822\n"
          ],
          "name": "stdout"
        }
      ]
    },
    {
      "cell_type": "code",
      "metadata": {
        "trusted": true,
        "_uuid": "d43a58980458b25b43d81684dcb0316bff0a21e2",
        "id": "CsNB788PEJit",
        "colab_type": "code",
        "colab": {
          "base_uri": "https://localhost:8080/",
          "height": 50
        },
        "outputId": "8402ed95-c0e7-4aac-d6eb-d17a486066de"
      },
      "source": [
        "# XG BOOST\n",
        "import xgboost as xgb\n",
        "\n",
        "model_xgb = xgb.XGBRegressor(colsample_bytree=0.4603, gamma=0.0468, \n",
        "                             learning_rate=0.05, max_depth=3, \n",
        "                             min_child_weight=1.7817, n_estimators=2200,\n",
        "                             reg_alpha=0.4640, reg_lambda=0.8571,\n",
        "                             subsample=0.5213, silent=1,\n",
        "                             random_state =7, nthread = -1)\n",
        "\n",
        "score = rmsle_cv(model_xgb)\n",
        "print(\"Xgboost score: {:.4f} ({:.4f})\\n\".format(score.mean(), score.std()))"
      ],
      "execution_count": 75,
      "outputs": [
        {
          "output_type": "stream",
          "text": [
            "Xgboost score: 0.1157 (0.0066)\n",
            "\n"
          ],
          "name": "stdout"
        }
      ]
    },
    {
      "cell_type": "code",
      "metadata": {
        "trusted": true,
        "_uuid": "5cca2e8a2f402f0526c5d648f22581abba35cbf8",
        "scrolled": true,
        "id": "ZBZfHYIBEJix",
        "colab_type": "code",
        "colab": {
          "base_uri": "https://localhost:8080/",
          "height": 34
        },
        "outputId": "e74ffda3-0cbb-4d77-9aea-1aeb32947e48"
      },
      "source": [
        "model_xgb.fit(x_train, y_train)\n",
        "xgb_train_pred = model_xgb.predict(x_train)\n",
        "xgb_pred = np.expm1(model_xgb.predict(x_test))\n",
        "print(rmsle(y_train, xgb_train_pred))"
      ],
      "execution_count": 76,
      "outputs": [
        {
          "output_type": "stream",
          "text": [
            "0.07945837238678691\n"
          ],
          "name": "stdout"
        }
      ]
    },
    {
      "cell_type": "code",
      "metadata": {
        "trusted": true,
        "_uuid": "fe32eb242566c65c02dab2ecf89ee30d3631a368",
        "id": "U9CwmIx6EJiy",
        "colab_type": "code",
        "colab": {
          "base_uri": "https://localhost:8080/",
          "height": 34
        },
        "outputId": "2c16ca48-66da-4bc8-fc55-5ce68cdd1a71"
      },
      "source": [
        "model_lgb.fit(x_train, y_train)\n",
        "lgb_train_pred = model_lgb.predict(x_train)\n",
        "lgb_pred = np.expm1(model_lgb.predict(x_test.values))\n",
        "print(rmsle(y_train, lgb_train_pred))"
      ],
      "execution_count": 77,
      "outputs": [
        {
          "output_type": "stream",
          "text": [
            "0.0732220102540715\n"
          ],
          "name": "stdout"
        }
      ]
    },
    {
      "cell_type": "code",
      "metadata": {
        "trusted": true,
        "_uuid": "eaa5d4c616b9961aed6283fb9579371a77765145",
        "id": "ovEhEc03EJiz",
        "colab_type": "code",
        "colab": {
          "base_uri": "https://localhost:8080/",
          "height": 50
        },
        "outputId": "ccac65ce-88d1-49f8-b505-c1155c854512"
      },
      "source": [
        "'''RMSE on the entire Train data when averaging'''\n",
        "\n",
        "print('RMSLE score on train data:')\n",
        "print(rmsle(y_train,stacked_train_pred*0.70 +\n",
        "               xgb_train_pred*0.15 + lgb_train_pred*0.15 ))"
      ],
      "execution_count": 78,
      "outputs": [
        {
          "output_type": "stream",
          "text": [
            "RMSLE score on train data:\n",
            "0.07533501862051509\n"
          ],
          "name": "stdout"
        }
      ]
    },
    {
      "cell_type": "code",
      "metadata": {
        "trusted": true,
        "_uuid": "926add869e3e4316b82e49c2b2dd76a346e09b19",
        "id": "cEmiEXfAEJi2",
        "colab_type": "code",
        "colab": {}
      },
      "source": [
        "predictions = stacked_pred*0.70 + xgb_pred*0.15 + lgb_pred*0.15"
      ],
      "execution_count": 0,
      "outputs": []
    },
    {
      "cell_type": "code",
      "metadata": {
        "trusted": true,
        "_uuid": "66227a1c2f9326a283f04112e7c96e32477a91fb",
        "id": "ChWp_rmaEJi3",
        "colab_type": "code",
        "colab": {
          "base_uri": "https://localhost:8080/",
          "height": 195
        },
        "outputId": "38b051cd-828c-487a-8875-70cc2a98bece"
      },
      "source": [
        "#Create a  DataFrame with the passengers ids and our prediction regarding whether they survived or not\n",
        "\n",
        "submission = pd.DataFrame({'Id': test_ID,'SalePrice': predictions})\n",
        "\n",
        "#Visualize the first 5 rows\n",
        "submission.head()"
      ],
      "execution_count": 80,
      "outputs": [
        {
          "output_type": "execute_result",
          "data": {
            "text/html": [
              "<div>\n",
              "<style scoped>\n",
              "    .dataframe tbody tr th:only-of-type {\n",
              "        vertical-align: middle;\n",
              "    }\n",
              "\n",
              "    .dataframe tbody tr th {\n",
              "        vertical-align: top;\n",
              "    }\n",
              "\n",
              "    .dataframe thead th {\n",
              "        text-align: right;\n",
              "    }\n",
              "</style>\n",
              "<table border=\"1\" class=\"dataframe\">\n",
              "  <thead>\n",
              "    <tr style=\"text-align: right;\">\n",
              "      <th></th>\n",
              "      <th>Id</th>\n",
              "      <th>SalePrice</th>\n",
              "    </tr>\n",
              "  </thead>\n",
              "  <tbody>\n",
              "    <tr>\n",
              "      <th>0</th>\n",
              "      <td>1461</td>\n",
              "      <td>118448.261295</td>\n",
              "    </tr>\n",
              "    <tr>\n",
              "      <th>1</th>\n",
              "      <td>1462</td>\n",
              "      <td>158285.572667</td>\n",
              "    </tr>\n",
              "    <tr>\n",
              "      <th>2</th>\n",
              "      <td>1463</td>\n",
              "      <td>186458.718994</td>\n",
              "    </tr>\n",
              "    <tr>\n",
              "      <th>3</th>\n",
              "      <td>1464</td>\n",
              "      <td>196340.511275</td>\n",
              "    </tr>\n",
              "    <tr>\n",
              "      <th>4</th>\n",
              "      <td>1465</td>\n",
              "      <td>190227.662961</td>\n",
              "    </tr>\n",
              "  </tbody>\n",
              "</table>\n",
              "</div>"
            ],
            "text/plain": [
              "     Id      SalePrice\n",
              "0  1461  118448.261295\n",
              "1  1462  158285.572667\n",
              "2  1463  186458.718994\n",
              "3  1464  196340.511275\n",
              "4  1465  190227.662961"
            ]
          },
          "metadata": {
            "tags": []
          },
          "execution_count": 80
        }
      ]
    },
    {
      "cell_type": "code",
      "metadata": {
        "trusted": true,
        "_uuid": "3bd6aafb8e36e1a9e3defa24eceb00f00f21ec19",
        "id": "p8uEbPudEJi4",
        "colab_type": "code",
        "colab": {
          "base_uri": "https://localhost:8080/",
          "height": 34
        },
        "outputId": "34fd0b31-0fc6-4280-a156-3f179104df69"
      },
      "source": [
        "#Convert DataFrame to a csv file that can be uploaded\n",
        "#This is saved in the same directory as your notebook\n",
        "filename = 'submission.csv'\n",
        "\n",
        "submission.to_csv(filename, index=False)\n",
        "\n",
        "print('Saved file: ' + filename)"
      ],
      "execution_count": 81,
      "outputs": [
        {
          "output_type": "stream",
          "text": [
            "Saved file: submission.csv\n"
          ],
          "name": "stdout"
        }
      ]
    },
    {
      "cell_type": "code",
      "metadata": {
        "trusted": true,
        "_uuid": "0c0593ef33d7ef8c0d4d0f8e53c9fd548d4a1b09",
        "id": "AU8Mp5cqEJi6",
        "colab_type": "code",
        "colab": {}
      },
      "source": [
        ""
      ],
      "execution_count": 0,
      "outputs": []
    }
  ]
}